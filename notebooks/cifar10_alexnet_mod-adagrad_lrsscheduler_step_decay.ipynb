{
 "cells": [
  {
   "cell_type": "markdown",
   "metadata": {},
   "source": [
    "# Convolutional neural networks"
   ]
  },
  {
   "cell_type": "code",
   "execution_count": 1,
   "metadata": {},
   "outputs": [
    {
     "name": "stderr",
     "output_type": "stream",
     "text": [
      "/usr/local/lib/python3.5/dist-packages/h5py/__init__.py:36: FutureWarning: Conversion of the second argument of issubdtype from `float` to `np.floating` is deprecated. In future, it will be treated as `np.float64 == np.dtype(float).type`.\n",
      "  from ._conv import register_converters as _register_converters\n",
      "Using TensorFlow backend.\n"
     ]
    }
   ],
   "source": [
    "import pickle\n",
    "import numpy as np\n",
    "import keras\n",
    "import matplotlib.pyplot as plt\n",
    "import math\n"
   ]
  },
  {
   "cell_type": "code",
   "execution_count": 2,
   "metadata": {},
   "outputs": [],
   "source": [
    "from tensorflow.python.client import device_lib"
   ]
  },
  {
   "cell_type": "code",
   "execution_count": 3,
   "metadata": {},
   "outputs": [
    {
     "name": "stdout",
     "output_type": "stream",
     "text": [
      "[name: \"/device:CPU:0\"\n",
      "device_type: \"CPU\"\n",
      "memory_limit: 268435456\n",
      "locality {\n",
      "}\n",
      "incarnation: 7721859361815364141\n",
      ", name: \"/device:GPU:0\"\n",
      "device_type: \"GPU\"\n",
      "memory_limit: 3368157184\n",
      "locality {\n",
      "  bus_id: 1\n",
      "}\n",
      "incarnation: 4254569675750717167\n",
      "physical_device_desc: \"device: 0, name: GeForce GTX 1050 Ti, pci bus id: 0000:01:00.0, compute capability: 6.1\"\n",
      "]\n"
     ]
    }
   ],
   "source": [
    "print(device_lib.list_local_devices())"
   ]
  },
  {
   "cell_type": "code",
   "execution_count": 4,
   "metadata": {},
   "outputs": [
    {
     "data": {
      "text/plain": [
       "['/job:localhost/replica:0/task:0/device:GPU:0']"
      ]
     },
     "execution_count": 4,
     "metadata": {},
     "output_type": "execute_result"
    }
   ],
   "source": [
    "from keras import backend as K\n",
    "K.tensorflow_backend._get_available_gpus()"
   ]
  },
  {
   "cell_type": "code",
   "execution_count": 5,
   "metadata": {},
   "outputs": [],
   "source": [
    "import keras\n",
    "from keras.datasets import cifar10\n",
    "from keras.models import Sequential\n",
    "from keras.layers import Dense, Dropout, Flatten, Activation\n",
    "from keras.layers import Conv2D, MaxPooling2D, BatchNormalization\n",
    "from keras.optimizers import Adam, Adamax, Adagrad,RMSprop\n",
    "from keras.preprocessing import image\n",
    "from keras.preprocessing.image import ImageDataGenerator\n",
    "from keras import regularizers\n",
    "from keras.optimizers import SGD\n",
    "from keras.utils import np_utils\n",
    "from keras.callbacks import LearningRateScheduler\n",
    "import numpy as np\n",
    "import scipy"
   ]
  },
  {
   "cell_type": "code",
   "execution_count": 6,
   "metadata": {},
   "outputs": [],
   "source": [
    "# Hyperparameters\n",
    "batch_size = 128\n",
    "num_classes = 10\n",
    "epochs = 60"
   ]
  },
  {
   "cell_type": "markdown",
   "metadata": {},
   "source": [
    "## Improving AlexNet"
   ]
  },
  {
   "cell_type": "code",
   "execution_count": 7,
   "metadata": {},
   "outputs": [],
   "source": [
    "# Load CIFAR10 Data\n",
    "(x_train, y_train), (x_test, y_test) = cifar10.load_data()\n",
    "x_train = x_train.astype('float32')\n",
    "x_test = x_test.astype('float32')\n",
    "\n",
    "#z-score\n",
    "mean = np.mean(x_train,axis=(0,1,2,3))\n",
    "std = np.std(x_train,axis=(0,1,2,3))\n",
    "x_train = (x_train-mean)/(std+1e-7)\n",
    "x_test = (x_test-mean)/(std+1e-7)\n",
    "\n",
    "num_classes = 10\n",
    "y_train = np_utils.to_categorical(y_train,num_classes)\n",
    "y_test = np_utils.to_categorical(y_test,num_classes)"
   ]
  },
  {
   "cell_type": "code",
   "execution_count": 8,
   "metadata": {},
   "outputs": [],
   "source": [
    "weight_decay = 1e-4\n",
    "model = Sequential()\n",
    "model.add(Conv2D(32, (3,3), padding='same', kernel_regularizer=regularizers.l2(weight_decay), input_shape=x_train.shape[1:]))\n",
    "model.add(Activation('elu'))\n",
    "model.add(BatchNormalization())\n",
    "model.add(Conv2D(32, (3,3), padding='same', kernel_regularizer=regularizers.l2(weight_decay)))\n",
    "model.add(Activation('elu'))\n",
    "model.add(BatchNormalization())\n",
    "model.add(MaxPooling2D(pool_size=(2,2)))\n",
    "model.add(Dropout(0.2))\n",
    "\n",
    "model.add(Conv2D(64, (3,3), padding='same', kernel_regularizer=regularizers.l2(weight_decay)))\n",
    "model.add(Activation('elu'))\n",
    "model.add(BatchNormalization())\n",
    "model.add(Conv2D(64, (3,3), padding='same', kernel_regularizer=regularizers.l2(weight_decay)))\n",
    "model.add(Activation('elu'))\n",
    "model.add(BatchNormalization())\n",
    "model.add(MaxPooling2D(pool_size=(2,2)))\n",
    "model.add(Dropout(0.3))\n",
    "\n",
    "model.add(Conv2D(128, (3,3), padding='same', kernel_regularizer=regularizers.l2(weight_decay)))\n",
    "model.add(Activation('elu'))\n",
    "model.add(BatchNormalization())\n",
    "model.add(Conv2D(128, (3,3), padding='same', kernel_regularizer=regularizers.l2(weight_decay)))\n",
    "model.add(Activation('elu'))\n",
    "model.add(BatchNormalization())\n",
    "model.add(MaxPooling2D(pool_size=(2,2)))\n",
    "model.add(Dropout(0.4))\n",
    "\n",
    "model.add(Flatten())\n",
    "model.add(Dense(num_classes, activation='softmax'))"
   ]
  },
  {
   "cell_type": "code",
   "execution_count": 9,
   "metadata": {},
   "outputs": [
    {
     "name": "stdout",
     "output_type": "stream",
     "text": [
      "_________________________________________________________________\n",
      "Layer (type)                 Output Shape              Param #   \n",
      "=================================================================\n",
      "conv2d_1 (Conv2D)            (None, 32, 32, 32)        896       \n",
      "_________________________________________________________________\n",
      "activation_1 (Activation)    (None, 32, 32, 32)        0         \n",
      "_________________________________________________________________\n",
      "batch_normalization_1 (Batch (None, 32, 32, 32)        128       \n",
      "_________________________________________________________________\n",
      "conv2d_2 (Conv2D)            (None, 32, 32, 32)        9248      \n",
      "_________________________________________________________________\n",
      "activation_2 (Activation)    (None, 32, 32, 32)        0         \n",
      "_________________________________________________________________\n",
      "batch_normalization_2 (Batch (None, 32, 32, 32)        128       \n",
      "_________________________________________________________________\n",
      "max_pooling2d_1 (MaxPooling2 (None, 16, 16, 32)        0         \n",
      "_________________________________________________________________\n",
      "dropout_1 (Dropout)          (None, 16, 16, 32)        0         \n",
      "_________________________________________________________________\n",
      "conv2d_3 (Conv2D)            (None, 16, 16, 64)        18496     \n",
      "_________________________________________________________________\n",
      "activation_3 (Activation)    (None, 16, 16, 64)        0         \n",
      "_________________________________________________________________\n",
      "batch_normalization_3 (Batch (None, 16, 16, 64)        256       \n",
      "_________________________________________________________________\n",
      "conv2d_4 (Conv2D)            (None, 16, 16, 64)        36928     \n",
      "_________________________________________________________________\n",
      "activation_4 (Activation)    (None, 16, 16, 64)        0         \n",
      "_________________________________________________________________\n",
      "batch_normalization_4 (Batch (None, 16, 16, 64)        256       \n",
      "_________________________________________________________________\n",
      "max_pooling2d_2 (MaxPooling2 (None, 8, 8, 64)          0         \n",
      "_________________________________________________________________\n",
      "dropout_2 (Dropout)          (None, 8, 8, 64)          0         \n",
      "_________________________________________________________________\n",
      "conv2d_5 (Conv2D)            (None, 8, 8, 128)         73856     \n",
      "_________________________________________________________________\n",
      "activation_5 (Activation)    (None, 8, 8, 128)         0         \n",
      "_________________________________________________________________\n",
      "batch_normalization_5 (Batch (None, 8, 8, 128)         512       \n",
      "_________________________________________________________________\n",
      "conv2d_6 (Conv2D)            (None, 8, 8, 128)         147584    \n",
      "_________________________________________________________________\n",
      "activation_6 (Activation)    (None, 8, 8, 128)         0         \n",
      "_________________________________________________________________\n",
      "batch_normalization_6 (Batch (None, 8, 8, 128)         512       \n",
      "_________________________________________________________________\n",
      "max_pooling2d_3 (MaxPooling2 (None, 4, 4, 128)         0         \n",
      "_________________________________________________________________\n",
      "dropout_3 (Dropout)          (None, 4, 4, 128)         0         \n",
      "_________________________________________________________________\n",
      "flatten_1 (Flatten)          (None, 2048)              0         \n",
      "_________________________________________________________________\n",
      "dense_1 (Dense)              (None, 10)                20490     \n",
      "=================================================================\n",
      "Total params: 309,290\n",
      "Trainable params: 308,394\n",
      "Non-trainable params: 896\n",
      "_________________________________________________________________\n"
     ]
    }
   ],
   "source": [
    "# print the model summary\n",
    "model.summary()"
   ]
  },
  {
   "cell_type": "markdown",
   "metadata": {},
   "source": [
    "## Augmentation. optimizer: Adagrad()"
   ]
  },
  {
   "cell_type": "code",
   "execution_count": 10,
   "metadata": {},
   "outputs": [],
   "source": [
    "data_augmentation = True\n",
    "optimizer=Adagrad()"
   ]
  },
  {
   "cell_type": "code",
   "execution_count": 11,
   "metadata": {},
   "outputs": [],
   "source": [
    "# determine Loss function and Optimizer\n",
    "model.compile(loss='categorical_crossentropy',\n",
    "            optimizer=optimizer,\n",
    "            metrics=['accuracy'])"
   ]
  },
  {
   "cell_type": "markdown",
   "metadata": {},
   "source": [
    "### Train the Model"
   ]
  },
  {
   "cell_type": "code",
   "execution_count": 12,
   "metadata": {},
   "outputs": [
    {
     "name": "stdout",
     "output_type": "stream",
     "text": [
      "Using real-time data augmentation.\n",
      "Epoch 1/60\n",
      " - 28s - loss: 5.1138 - acc: 0.2541 - val_loss: 2.4952 - val_acc: 0.2084\n",
      "Epoch 2/60\n",
      " - 26s - loss: 2.1910 - acc: 0.3824 - val_loss: 2.1129 - val_acc: 0.3323\n",
      "Epoch 3/60\n",
      " - 26s - loss: 2.0745 - acc: 0.4155 - val_loss: 2.5392 - val_acc: 0.2810\n",
      "Epoch 4/60\n",
      " - 26s - loss: 1.8631 - acc: 0.4487 - val_loss: 1.7795 - val_acc: 0.4732\n",
      "Epoch 5/60\n",
      " - 26s - loss: 1.7359 - acc: 0.4757 - val_loss: 1.6013 - val_acc: 0.5264\n",
      "Epoch 6/60\n",
      " - 26s - loss: 1.6469 - acc: 0.5013 - val_loss: 1.5320 - val_acc: 0.5297\n",
      "Epoch 7/60\n",
      " - 26s - loss: 1.5572 - acc: 0.5245 - val_loss: 1.5182 - val_acc: 0.5417\n",
      "Epoch 8/60\n",
      " - 26s - loss: 1.4978 - acc: 0.5404 - val_loss: 1.4345 - val_acc: 0.5676\n",
      "Epoch 9/60\n",
      " - 26s - loss: 1.4481 - acc: 0.5572 - val_loss: 1.3470 - val_acc: 0.5959\n",
      "Epoch 10/60\n",
      " - 26s - loss: 1.3648 - acc: 0.5851 - val_loss: 1.2690 - val_acc: 0.6212\n",
      "Epoch 11/60\n",
      " - 26s - loss: 1.3268 - acc: 0.5976 - val_loss: 1.1761 - val_acc: 0.6565\n",
      "Epoch 12/60\n",
      " - 26s - loss: 1.3018 - acc: 0.6035 - val_loss: 1.2066 - val_acc: 0.6435\n",
      "Epoch 13/60\n",
      " - 26s - loss: 1.2654 - acc: 0.6156 - val_loss: 1.2565 - val_acc: 0.6196\n",
      "Epoch 14/60\n",
      " - 26s - loss: 1.2391 - acc: 0.6230 - val_loss: 1.0761 - val_acc: 0.6877\n",
      "Epoch 15/60\n",
      " - 26s - loss: 1.2086 - acc: 0.6330 - val_loss: 1.1038 - val_acc: 0.6716\n",
      "Epoch 16/60\n",
      " - 26s - loss: 1.1882 - acc: 0.6420 - val_loss: 1.0607 - val_acc: 0.6866\n",
      "Epoch 17/60\n",
      " - 26s - loss: 1.1591 - acc: 0.6486 - val_loss: 1.0252 - val_acc: 0.6997\n",
      "Epoch 18/60\n",
      " - 26s - loss: 1.1392 - acc: 0.6561 - val_loss: 1.0738 - val_acc: 0.6782\n",
      "Epoch 19/60\n",
      " - 26s - loss: 1.1171 - acc: 0.6667 - val_loss: 1.0275 - val_acc: 0.6992\n",
      "Epoch 20/60\n",
      " - 26s - loss: 1.0714 - acc: 0.6796 - val_loss: 1.0052 - val_acc: 0.7032\n",
      "Epoch 21/60\n",
      " - 26s - loss: 1.0598 - acc: 0.6845 - val_loss: 0.9674 - val_acc: 0.7179\n",
      "Epoch 22/60\n",
      " - 26s - loss: 1.0490 - acc: 0.6862 - val_loss: 0.9453 - val_acc: 0.7239\n",
      "Epoch 23/60\n",
      " - 26s - loss: 1.0338 - acc: 0.6918 - val_loss: 0.9165 - val_acc: 0.7338\n",
      "Epoch 24/60\n",
      " - 26s - loss: 1.0225 - acc: 0.6961 - val_loss: 0.9563 - val_acc: 0.7166\n",
      "Epoch 25/60\n",
      " - 26s - loss: 1.0129 - acc: 0.6983 - val_loss: 0.9158 - val_acc: 0.7353\n",
      "Epoch 26/60\n",
      " - 26s - loss: 1.0001 - acc: 0.7027 - val_loss: 0.9492 - val_acc: 0.7210\n",
      "Epoch 27/60\n",
      " - 26s - loss: 0.9910 - acc: 0.7056 - val_loss: 0.9806 - val_acc: 0.7186\n",
      "Epoch 28/60\n",
      " - 26s - loss: 0.9865 - acc: 0.7056 - val_loss: 0.9093 - val_acc: 0.7374\n",
      "Epoch 29/60\n",
      " - 26s - loss: 0.9733 - acc: 0.7090 - val_loss: 0.9378 - val_acc: 0.7289\n",
      "Epoch 30/60\n",
      " - 26s - loss: 0.9542 - acc: 0.7179 - val_loss: 0.8751 - val_acc: 0.7459\n",
      "Epoch 31/60\n",
      " - 26s - loss: 0.9406 - acc: 0.7227 - val_loss: 0.8778 - val_acc: 0.7475\n",
      "Epoch 32/60\n",
      " - 26s - loss: 0.9462 - acc: 0.7200 - val_loss: 0.8863 - val_acc: 0.7436\n",
      "Epoch 33/60\n",
      " - 26s - loss: 0.9341 - acc: 0.7256 - val_loss: 0.8465 - val_acc: 0.7553\n",
      "Epoch 34/60\n",
      " - 26s - loss: 0.9286 - acc: 0.7245 - val_loss: 0.8484 - val_acc: 0.7572\n",
      "Epoch 35/60\n",
      " - 26s - loss: 0.9260 - acc: 0.7252 - val_loss: 0.8698 - val_acc: 0.7492\n",
      "Epoch 36/60\n",
      " - 26s - loss: 0.9171 - acc: 0.7295 - val_loss: 0.8620 - val_acc: 0.7529\n",
      "Epoch 37/60\n",
      " - 26s - loss: 0.9135 - acc: 0.7310 - val_loss: 0.8497 - val_acc: 0.7547\n",
      "Epoch 38/60\n",
      " - 26s - loss: 0.9054 - acc: 0.7338 - val_loss: 0.8572 - val_acc: 0.7561\n",
      "Epoch 39/60\n",
      " - 26s - loss: 0.9029 - acc: 0.7337 - val_loss: 0.8592 - val_acc: 0.7544\n",
      "Epoch 40/60\n",
      " - 26s - loss: 0.8990 - acc: 0.7338 - val_loss: 0.8557 - val_acc: 0.7556\n",
      "Epoch 41/60\n",
      " - 26s - loss: 0.8949 - acc: 0.7360 - val_loss: 0.8466 - val_acc: 0.7569\n",
      "Epoch 42/60\n",
      " - 26s - loss: 0.8958 - acc: 0.7378 - val_loss: 0.8270 - val_acc: 0.7620\n",
      "Epoch 43/60\n",
      " - 26s - loss: 0.8933 - acc: 0.7353 - val_loss: 0.8313 - val_acc: 0.7616\n",
      "Epoch 44/60\n",
      " - 26s - loss: 0.8856 - acc: 0.7405 - val_loss: 0.8272 - val_acc: 0.7635\n",
      "Epoch 45/60\n",
      " - 26s - loss: 0.8820 - acc: 0.7401 - val_loss: 0.8353 - val_acc: 0.7629\n",
      "Epoch 46/60\n",
      " - 26s - loss: 0.8786 - acc: 0.7410 - val_loss: 0.8240 - val_acc: 0.7617\n",
      "Epoch 47/60\n",
      " - 26s - loss: 0.8800 - acc: 0.7397 - val_loss: 0.8162 - val_acc: 0.7666\n",
      "Epoch 48/60\n",
      " - 26s - loss: 0.8785 - acc: 0.7415 - val_loss: 0.8195 - val_acc: 0.7652\n",
      "Epoch 49/60\n",
      " - 26s - loss: 0.8794 - acc: 0.7418 - val_loss: 0.8201 - val_acc: 0.7664\n",
      "Epoch 50/60\n",
      " - 26s - loss: 0.8729 - acc: 0.7437 - val_loss: 0.8223 - val_acc: 0.7642\n",
      "Epoch 51/60\n",
      " - 26s - loss: 0.8677 - acc: 0.7438 - val_loss: 0.8242 - val_acc: 0.7637\n",
      "Epoch 52/60\n",
      " - 26s - loss: 0.8692 - acc: 0.7434 - val_loss: 0.8206 - val_acc: 0.7619\n",
      "Epoch 53/60\n",
      " - 26s - loss: 0.8683 - acc: 0.7444 - val_loss: 0.8189 - val_acc: 0.7643\n",
      "Epoch 54/60\n",
      " - 26s - loss: 0.8680 - acc: 0.7432 - val_loss: 0.8181 - val_acc: 0.7650\n",
      "Epoch 55/60\n",
      " - 26s - loss: 0.8655 - acc: 0.7459 - val_loss: 0.8191 - val_acc: 0.7658\n",
      "Epoch 56/60\n",
      " - 26s - loss: 0.8667 - acc: 0.7458 - val_loss: 0.8185 - val_acc: 0.7653\n",
      "Epoch 57/60\n",
      " - 26s - loss: 0.8562 - acc: 0.7504 - val_loss: 0.8185 - val_acc: 0.7651\n",
      "Epoch 58/60\n",
      " - 26s - loss: 0.8636 - acc: 0.7468 - val_loss: 0.8052 - val_acc: 0.7708\n",
      "Epoch 59/60\n",
      " - 26s - loss: 0.8665 - acc: 0.7470 - val_loss: 0.8212 - val_acc: 0.7647\n",
      "Epoch 60/60\n",
      " - 26s - loss: 0.8627 - acc: 0.7483 - val_loss: 0.8152 - val_acc: 0.7675\n"
     ]
    }
   ],
   "source": [
    "if not data_augmentation:\n",
    "    print('Not using data augmentation.')\n",
    "    history = model.fit(x_train, y_train,\n",
    "              batch_size=batch_size,\n",
    "              epochs=epochs,\n",
    "              verbose=2,\n",
    "              validation_data=(x_test, y_test),\n",
    "              shuffle=True)\n",
    "else:\n",
    "    print('Using real-time data augmentation.')\n",
    "    # This will do preprocessing and realtime data augmentation:\n",
    "    datagen = ImageDataGenerator(\n",
    "        featurewise_center=False,  # set input mean to 0 over the dataset\n",
    "        samplewise_center=False,  # set each sample mean to 0\n",
    "        featurewise_std_normalization=False,  # divide inputs by std of the dataset\n",
    "        samplewise_std_normalization=False,  # divide each input by its std\n",
    "        zca_whitening=False,  # apply ZCA whitening\n",
    "        rotation_range=15,  # randomly rotate images in the range (degrees, 0 to 180)\n",
    "        width_shift_range=0.1,  # randomly shift images horizontally (fraction of total width)\n",
    "        height_shift_range=0.1,  # randomly shift images vertically (fraction of total height)\n",
    "        horizontal_flip=True,  # randomly flip images\n",
    "        vertical_flip=False)  # randomly flip images\n",
    "\n",
    "    # Compute quantities required for feature-wise normalization\n",
    "    # (std, mean, and principal components if ZCA whitening is applied).\n",
    "    datagen.fit(x_train)\n",
    "    \n",
    "    def step_decay(epoch):\n",
    "        initial_lrate = 0.1\n",
    "        drop = 0.5\n",
    "        epochs_drop = 10.0\n",
    "        lrate = initial_lrate * math.pow(drop, math.floor((1+epoch)/epochs_drop))\n",
    "        return lrate\n",
    "\n",
    "    # Fit the model on the batches generated by datagen.flow().\n",
    "    history = model.fit_generator(datagen.flow(x_train, y_train,\n",
    "                    batch_size=batch_size),\n",
    "                    epochs=epochs,\n",
    "                    verbose=2,\n",
    "                    validation_data=(x_test, y_test),\n",
    "                    callbacks=[LearningRateScheduler(step_decay)],\n",
    "                    workers=4)\n"
   ]
  },
  {
   "cell_type": "code",
   "execution_count": 13,
   "metadata": {},
   "outputs": [
    {
     "data": {
      "image/png": "[encoded data removed]",
      "text/plain": [
       "<Figure size 432x288 with 1 Axes>"
      ]
     },
     "metadata": {},
     "output_type": "display_data"
    }
   ],
   "source": [
    "# summarize history for accuracy\n",
    "plt.plot(history.history['acc'])\n",
    "plt.plot(history.history['val_acc'])\n",
    "plt.title('aug_adagrad model accuracy')\n",
    "plt.ylabel('accuracy')\n",
    "plt.xlabel('epoch')\n",
    "plt.legend(['train', 'test'], loc='upper left')\n",
    "plt.show()"
   ]
  },
  {
   "cell_type": "code",
   "execution_count": 14,
   "metadata": {},
   "outputs": [
    {
     "data": {
      "image/png": "[encoded data removed]",
      "text/plain": [
       "<Figure size 432x288 with 1 Axes>"
      ]
     },
     "metadata": {},
     "output_type": "display_data"
    }
   ],
   "source": [
    "# summarize history for loss\n",
    "plt.plot(history.history['loss'])\n",
    "plt.plot(history.history['val_loss'])\n",
    "plt.title('aug_adagrad model loss')\n",
    "plt.ylabel('loss')\n",
    "plt.xlabel('epoch')\n",
    "plt.legend(['train', 'test'], loc='upper left')\n",
    "plt.show()"
   ]
  },
  {
   "cell_type": "markdown",
   "metadata": {},
   "source": [
    "### Test the model"
   ]
  },
  {
   "cell_type": "code",
   "execution_count": 15,
   "metadata": {},
   "outputs": [],
   "source": [
    "aug_adagrad_score = model.evaluate(x_test, y_test, verbose=0)"
   ]
  },
  {
   "cell_type": "code",
   "execution_count": 16,
   "metadata": {},
   "outputs": [
    {
     "name": "stdout",
     "output_type": "stream",
     "text": [
      "cv loss: 0.8152190686225891\n"
     ]
    }
   ],
   "source": [
    "print('cv loss:', aug_adagrad_score[0])"
   ]
  },
  {
   "cell_type": "code",
   "execution_count": 17,
   "metadata": {},
   "outputs": [
    {
     "name": "stdout",
     "output_type": "stream",
     "text": [
      "cv accuracy: 0.7675\n"
     ]
    }
   ],
   "source": [
    "print('cv accuracy:', aug_adagrad_score[1])"
   ]
  }
 ],
 "metadata": {
  "kernelspec": {
   "display_name": "Python 3",
   "language": "python",
   "name": "python3"
  },
  "language_info": {
   "codemirror_mode": {
    "name": "ipython",
    "version": 3
   },
   "file_extension": ".py",
   "mimetype": "text/x-python",
   "name": "python",
   "nbconvert_exporter": "python",
   "pygments_lexer": "ipython3",
   "version": "3.5.2"
  }
 },
 "nbformat": 4,
 "nbformat_minor": 1
}
