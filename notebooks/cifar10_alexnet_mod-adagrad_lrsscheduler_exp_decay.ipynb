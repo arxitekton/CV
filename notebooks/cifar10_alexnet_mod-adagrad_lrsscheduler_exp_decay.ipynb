{
 "cells": [
  {
   "cell_type": "markdown",
   "metadata": {},
   "source": [
    "# Convolutional neural networks"
   ]
  },
  {
   "cell_type": "code",
   "execution_count": 1,
   "metadata": {},
   "outputs": [
    {
     "name": "stderr",
     "output_type": "stream",
     "text": [
      "/usr/local/lib/python3.5/dist-packages/h5py/__init__.py:36: FutureWarning: Conversion of the second argument of issubdtype from `float` to `np.floating` is deprecated. In future, it will be treated as `np.float64 == np.dtype(float).type`.\n",
      "  from ._conv import register_converters as _register_converters\n",
      "Using TensorFlow backend.\n"
     ]
    }
   ],
   "source": [
    "import pickle\n",
    "import numpy as np\n",
    "import keras\n",
    "import matplotlib.pyplot as plt\n",
    "import math\n"
   ]
  },
  {
   "cell_type": "code",
   "execution_count": 2,
   "metadata": {},
   "outputs": [],
   "source": [
    "from tensorflow.python.client import device_lib"
   ]
  },
  {
   "cell_type": "code",
   "execution_count": 3,
   "metadata": {},
   "outputs": [
    {
     "name": "stdout",
     "output_type": "stream",
     "text": [
      "[name: \"/device:CPU:0\"\n",
      "device_type: \"CPU\"\n",
      "memory_limit: 268435456\n",
      "locality {\n",
      "}\n",
      "incarnation: 8289805272491083104\n",
      ", name: \"/device:GPU:0\"\n",
      "device_type: \"GPU\"\n",
      "memory_limit: 3384147968\n",
      "locality {\n",
      "  bus_id: 1\n",
      "}\n",
      "incarnation: 8271603590064952280\n",
      "physical_device_desc: \"device: 0, name: GeForce GTX 1050 Ti, pci bus id: 0000:01:00.0, compute capability: 6.1\"\n",
      "]\n"
     ]
    }
   ],
   "source": [
    "print(device_lib.list_local_devices())"
   ]
  },
  {
   "cell_type": "code",
   "execution_count": 4,
   "metadata": {},
   "outputs": [
    {
     "data": {
      "text/plain": [
       "['/job:localhost/replica:0/task:0/device:GPU:0']"
      ]
     },
     "execution_count": 4,
     "metadata": {},
     "output_type": "execute_result"
    }
   ],
   "source": [
    "from keras import backend as K\n",
    "K.tensorflow_backend._get_available_gpus()"
   ]
  },
  {
   "cell_type": "code",
   "execution_count": 5,
   "metadata": {},
   "outputs": [],
   "source": [
    "import keras\n",
    "from keras.datasets import cifar10\n",
    "from keras.models import Sequential\n",
    "from keras.layers import Dense, Dropout, Flatten, Activation\n",
    "from keras.layers import Conv2D, MaxPooling2D, BatchNormalization\n",
    "from keras.optimizers import Adam, Adamax, Adagrad,RMSprop\n",
    "from keras.preprocessing import image\n",
    "from keras.preprocessing.image import ImageDataGenerator\n",
    "from keras import regularizers\n",
    "from keras.optimizers import SGD\n",
    "from keras.utils import np_utils\n",
    "from keras.callbacks import LearningRateScheduler\n",
    "import numpy as np\n",
    "import scipy"
   ]
  },
  {
   "cell_type": "code",
   "execution_count": 6,
   "metadata": {},
   "outputs": [],
   "source": [
    "# Hyperparameters\n",
    "batch_size = 128\n",
    "num_classes = 10\n",
    "epochs = 90"
   ]
  },
  {
   "cell_type": "markdown",
   "metadata": {},
   "source": [
    "## Improving AlexNet"
   ]
  },
  {
   "cell_type": "code",
   "execution_count": 7,
   "metadata": {},
   "outputs": [],
   "source": [
    "# Load CIFAR10 Data\n",
    "(x_train, y_train), (x_test, y_test) = cifar10.load_data()\n",
    "x_train = x_train.astype('float32')\n",
    "x_test = x_test.astype('float32')\n",
    "\n",
    "#z-score\n",
    "mean = np.mean(x_train,axis=(0,1,2,3))\n",
    "std = np.std(x_train,axis=(0,1,2,3))\n",
    "x_train = (x_train-mean)/(std+1e-7)\n",
    "x_test = (x_test-mean)/(std+1e-7)\n",
    "\n",
    "num_classes = 10\n",
    "y_train = np_utils.to_categorical(y_train,num_classes)\n",
    "y_test = np_utils.to_categorical(y_test,num_classes)"
   ]
  },
  {
   "cell_type": "code",
   "execution_count": 8,
   "metadata": {},
   "outputs": [],
   "source": [
    "weight_decay = 1e-4\n",
    "model = Sequential()\n",
    "model.add(Conv2D(32, (3,3), padding='same', kernel_regularizer=regularizers.l2(weight_decay), input_shape=x_train.shape[1:]))\n",
    "model.add(Activation('elu'))\n",
    "model.add(BatchNormalization())\n",
    "model.add(Conv2D(32, (3,3), padding='same', kernel_regularizer=regularizers.l2(weight_decay)))\n",
    "model.add(Activation('elu'))\n",
    "model.add(BatchNormalization())\n",
    "model.add(MaxPooling2D(pool_size=(2,2)))\n",
    "model.add(Dropout(0.2))\n",
    "\n",
    "model.add(Conv2D(64, (3,3), padding='same', kernel_regularizer=regularizers.l2(weight_decay)))\n",
    "model.add(Activation('elu'))\n",
    "model.add(BatchNormalization())\n",
    "model.add(Conv2D(64, (3,3), padding='same', kernel_regularizer=regularizers.l2(weight_decay)))\n",
    "model.add(Activation('elu'))\n",
    "model.add(BatchNormalization())\n",
    "model.add(MaxPooling2D(pool_size=(2,2)))\n",
    "model.add(Dropout(0.3))\n",
    "\n",
    "model.add(Conv2D(128, (3,3), padding='same', kernel_regularizer=regularizers.l2(weight_decay)))\n",
    "model.add(Activation('elu'))\n",
    "model.add(BatchNormalization())\n",
    "model.add(Conv2D(128, (3,3), padding='same', kernel_regularizer=regularizers.l2(weight_decay)))\n",
    "model.add(Activation('elu'))\n",
    "model.add(BatchNormalization())\n",
    "model.add(MaxPooling2D(pool_size=(2,2)))\n",
    "model.add(Dropout(0.4))\n",
    "\n",
    "model.add(Flatten())\n",
    "model.add(Dense(num_classes, activation='softmax'))"
   ]
  },
  {
   "cell_type": "code",
   "execution_count": 9,
   "metadata": {},
   "outputs": [
    {
     "name": "stdout",
     "output_type": "stream",
     "text": [
      "_________________________________________________________________\n",
      "Layer (type)                 Output Shape              Param #   \n",
      "=================================================================\n",
      "conv2d_1 (Conv2D)            (None, 32, 32, 32)        896       \n",
      "_________________________________________________________________\n",
      "activation_1 (Activation)    (None, 32, 32, 32)        0         \n",
      "_________________________________________________________________\n",
      "batch_normalization_1 (Batch (None, 32, 32, 32)        128       \n",
      "_________________________________________________________________\n",
      "conv2d_2 (Conv2D)            (None, 32, 32, 32)        9248      \n",
      "_________________________________________________________________\n",
      "activation_2 (Activation)    (None, 32, 32, 32)        0         \n",
      "_________________________________________________________________\n",
      "batch_normalization_2 (Batch (None, 32, 32, 32)        128       \n",
      "_________________________________________________________________\n",
      "max_pooling2d_1 (MaxPooling2 (None, 16, 16, 32)        0         \n",
      "_________________________________________________________________\n",
      "dropout_1 (Dropout)          (None, 16, 16, 32)        0         \n",
      "_________________________________________________________________\n",
      "conv2d_3 (Conv2D)            (None, 16, 16, 64)        18496     \n",
      "_________________________________________________________________\n",
      "activation_3 (Activation)    (None, 16, 16, 64)        0         \n",
      "_________________________________________________________________\n",
      "batch_normalization_3 (Batch (None, 16, 16, 64)        256       \n",
      "_________________________________________________________________\n",
      "conv2d_4 (Conv2D)            (None, 16, 16, 64)        36928     \n",
      "_________________________________________________________________\n",
      "activation_4 (Activation)    (None, 16, 16, 64)        0         \n",
      "_________________________________________________________________\n",
      "batch_normalization_4 (Batch (None, 16, 16, 64)        256       \n",
      "_________________________________________________________________\n",
      "max_pooling2d_2 (MaxPooling2 (None, 8, 8, 64)          0         \n",
      "_________________________________________________________________\n",
      "dropout_2 (Dropout)          (None, 8, 8, 64)          0         \n",
      "_________________________________________________________________\n",
      "conv2d_5 (Conv2D)            (None, 8, 8, 128)         73856     \n",
      "_________________________________________________________________\n",
      "activation_5 (Activation)    (None, 8, 8, 128)         0         \n",
      "_________________________________________________________________\n",
      "batch_normalization_5 (Batch (None, 8, 8, 128)         512       \n",
      "_________________________________________________________________\n",
      "conv2d_6 (Conv2D)            (None, 8, 8, 128)         147584    \n",
      "_________________________________________________________________\n",
      "activation_6 (Activation)    (None, 8, 8, 128)         0         \n",
      "_________________________________________________________________\n",
      "batch_normalization_6 (Batch (None, 8, 8, 128)         512       \n",
      "_________________________________________________________________\n",
      "max_pooling2d_3 (MaxPooling2 (None, 4, 4, 128)         0         \n",
      "_________________________________________________________________\n",
      "dropout_3 (Dropout)          (None, 4, 4, 128)         0         \n",
      "_________________________________________________________________\n",
      "flatten_1 (Flatten)          (None, 2048)              0         \n",
      "_________________________________________________________________\n",
      "dense_1 (Dense)              (None, 10)                20490     \n",
      "=================================================================\n",
      "Total params: 309,290\n",
      "Trainable params: 308,394\n",
      "Non-trainable params: 896\n",
      "_________________________________________________________________\n"
     ]
    }
   ],
   "source": [
    "# print the model summary\n",
    "model.summary()"
   ]
  },
  {
   "cell_type": "markdown",
   "metadata": {},
   "source": [
    "## Augmentation. optimizer: Adagrad()"
   ]
  },
  {
   "cell_type": "code",
   "execution_count": 10,
   "metadata": {},
   "outputs": [],
   "source": [
    "data_augmentation = True\n",
    "optimizer=Adagrad()"
   ]
  },
  {
   "cell_type": "code",
   "execution_count": 11,
   "metadata": {},
   "outputs": [],
   "source": [
    "# determine Loss function and Optimizer\n",
    "model.compile(loss='categorical_crossentropy',\n",
    "            optimizer=optimizer,\n",
    "            metrics=['accuracy'])"
   ]
  },
  {
   "cell_type": "markdown",
   "metadata": {},
   "source": [
    "### Train the Model"
   ]
  },
  {
   "cell_type": "code",
   "execution_count": 12,
   "metadata": {},
   "outputs": [
    {
     "name": "stdout",
     "output_type": "stream",
     "text": [
      "Using real-time data augmentation.\n",
      "Epoch 1/90\n",
      " - 27s - loss: 4.9227 - acc: 0.2821 - val_loss: 2.6254 - val_acc: 0.2346\n",
      "Epoch 2/90\n",
      " - 25s - loss: 2.1845 - acc: 0.4020 - val_loss: 1.9436 - val_acc: 0.4581\n",
      "Epoch 3/90\n",
      " - 26s - loss: 2.0250 - acc: 0.4457 - val_loss: 2.1841 - val_acc: 0.3904\n",
      "Epoch 4/90\n",
      " - 26s - loss: 1.8826 - acc: 0.4744 - val_loss: 1.5935 - val_acc: 0.5440\n",
      "Epoch 5/90\n",
      " - 26s - loss: 1.6654 - acc: 0.5088 - val_loss: 1.4755 - val_acc: 0.5732\n",
      "Epoch 6/90\n",
      " - 25s - loss: 1.5653 - acc: 0.5361 - val_loss: 1.4598 - val_acc: 0.5718\n",
      "Epoch 7/90\n",
      " - 25s - loss: 1.4835 - acc: 0.5585 - val_loss: 1.4485 - val_acc: 0.5758\n",
      "Epoch 8/90\n",
      " - 25s - loss: 1.4307 - acc: 0.5729 - val_loss: 1.2985 - val_acc: 0.6210\n",
      "Epoch 9/90\n",
      " - 25s - loss: 1.3829 - acc: 0.5871 - val_loss: 1.2942 - val_acc: 0.6184\n",
      "Epoch 10/90\n",
      " - 25s - loss: 1.3348 - acc: 0.6056 - val_loss: 1.2423 - val_acc: 0.6345\n",
      "Epoch 11/90\n",
      " - 26s - loss: 1.3034 - acc: 0.6106 - val_loss: 1.2167 - val_acc: 0.6432\n",
      "Epoch 12/90\n",
      " - 26s - loss: 1.2682 - acc: 0.6211 - val_loss: 1.1625 - val_acc: 0.6599\n",
      "Epoch 13/90\n",
      " - 26s - loss: 1.2473 - acc: 0.6299 - val_loss: 1.2099 - val_acc: 0.6444\n",
      "Epoch 14/90\n",
      " - 26s - loss: 1.2194 - acc: 0.6357 - val_loss: 1.1295 - val_acc: 0.6668\n",
      "Epoch 15/90\n",
      " - 25s - loss: 1.2003 - acc: 0.6442 - val_loss: 1.1999 - val_acc: 0.6472\n",
      "Epoch 16/90\n",
      " - 25s - loss: 1.2004 - acc: 0.6421 - val_loss: 1.1278 - val_acc: 0.6711\n",
      "Epoch 17/90\n",
      " - 26s - loss: 1.1756 - acc: 0.6503 - val_loss: 1.1062 - val_acc: 0.6794\n",
      "Epoch 18/90\n",
      " - 26s - loss: 1.1617 - acc: 0.6546 - val_loss: 1.2000 - val_acc: 0.6521\n",
      "Epoch 19/90\n",
      " - 26s - loss: 1.1483 - acc: 0.6584 - val_loss: 1.0427 - val_acc: 0.6998\n",
      "Epoch 20/90\n",
      " - 26s - loss: 1.1371 - acc: 0.6590 - val_loss: 1.1283 - val_acc: 0.6741\n",
      "Epoch 21/90\n",
      " - 26s - loss: 1.1271 - acc: 0.6643 - val_loss: 1.0690 - val_acc: 0.6925\n",
      "Epoch 22/90\n",
      " - 26s - loss: 1.1143 - acc: 0.6678 - val_loss: 1.0712 - val_acc: 0.6937\n",
      "Epoch 23/90\n",
      " - 26s - loss: 1.1085 - acc: 0.6692 - val_loss: 1.0648 - val_acc: 0.6906\n",
      "Epoch 24/90\n",
      " - 26s - loss: 1.1057 - acc: 0.6715 - val_loss: 1.0814 - val_acc: 0.6848\n",
      "Epoch 25/90\n",
      " - 26s - loss: 1.0960 - acc: 0.6709 - val_loss: 1.0796 - val_acc: 0.6858\n",
      "Epoch 26/90\n",
      " - 26s - loss: 1.0925 - acc: 0.6759 - val_loss: 1.0344 - val_acc: 0.6997\n",
      "Epoch 27/90\n",
      " - 26s - loss: 1.0878 - acc: 0.6759 - val_loss: 1.0514 - val_acc: 0.6929\n",
      "Epoch 28/90\n",
      " - 26s - loss: 1.0879 - acc: 0.6759 - val_loss: 1.0349 - val_acc: 0.6992\n",
      "Epoch 29/90\n",
      " - 26s - loss: 1.0858 - acc: 0.6747 - val_loss: 1.0369 - val_acc: 0.7009\n",
      "Epoch 30/90\n",
      " - 26s - loss: 1.0752 - acc: 0.6792 - val_loss: 1.0677 - val_acc: 0.6921\n",
      "Epoch 31/90\n",
      " - 26s - loss: 1.0740 - acc: 0.6795 - val_loss: 1.0153 - val_acc: 0.7064\n",
      "Epoch 32/90\n",
      " - 26s - loss: 1.0704 - acc: 0.6801 - val_loss: 1.0323 - val_acc: 0.6996\n",
      "Epoch 33/90\n",
      " - 26s - loss: 1.0685 - acc: 0.6817 - val_loss: 1.0215 - val_acc: 0.7060\n",
      "Epoch 34/90\n",
      " - 25s - loss: 1.0668 - acc: 0.6823 - val_loss: 1.0154 - val_acc: 0.7082\n",
      "Epoch 35/90\n",
      " - 26s - loss: 1.0675 - acc: 0.6809 - val_loss: 1.0207 - val_acc: 0.7092\n",
      "Epoch 36/90\n",
      " - 26s - loss: 1.0588 - acc: 0.6840 - val_loss: 1.0276 - val_acc: 0.7034\n",
      "Epoch 37/90\n",
      " - 26s - loss: 1.0612 - acc: 0.6843 - val_loss: 1.0178 - val_acc: 0.7070\n",
      "Epoch 38/90\n",
      " - 25s - loss: 1.0545 - acc: 0.6853 - val_loss: 1.0162 - val_acc: 0.7089\n",
      "Epoch 39/90\n",
      " - 26s - loss: 1.0554 - acc: 0.6857 - val_loss: 1.0147 - val_acc: 0.7082\n",
      "Epoch 40/90\n",
      " - 26s - loss: 1.0580 - acc: 0.6823 - val_loss: 1.0198 - val_acc: 0.7065\n",
      "Epoch 41/90\n",
      " - 25s - loss: 1.0565 - acc: 0.6811 - val_loss: 1.0232 - val_acc: 0.7053\n",
      "Epoch 42/90\n",
      " - 26s - loss: 1.0532 - acc: 0.6860 - val_loss: 1.0177 - val_acc: 0.7081\n",
      "Epoch 43/90\n",
      " - 26s - loss: 1.0514 - acc: 0.6872 - val_loss: 1.0172 - val_acc: 0.7073\n",
      "Epoch 44/90\n",
      " - 25s - loss: 1.0513 - acc: 0.6871 - val_loss: 1.0141 - val_acc: 0.7076\n",
      "Epoch 45/90\n",
      " - 26s - loss: 1.0549 - acc: 0.6867 - val_loss: 1.0183 - val_acc: 0.7081\n",
      "Epoch 46/90\n",
      " - 26s - loss: 1.0506 - acc: 0.6881 - val_loss: 1.0224 - val_acc: 0.7059\n",
      "Epoch 47/90\n",
      " - 26s - loss: 1.0491 - acc: 0.6868 - val_loss: 1.0140 - val_acc: 0.7092\n",
      "Epoch 48/90\n",
      " - 26s - loss: 1.0513 - acc: 0.6853 - val_loss: 1.0175 - val_acc: 0.7074\n",
      "Epoch 49/90\n",
      " - 26s - loss: 1.0468 - acc: 0.6895 - val_loss: 1.0163 - val_acc: 0.7075\n",
      "Epoch 50/90\n",
      " - 26s - loss: 1.0508 - acc: 0.6871 - val_loss: 1.0151 - val_acc: 0.7076\n",
      "Epoch 51/90\n",
      " - 26s - loss: 1.0490 - acc: 0.6885 - val_loss: 1.0176 - val_acc: 0.7072\n",
      "Epoch 52/90\n",
      " - 26s - loss: 1.0511 - acc: 0.6865 - val_loss: 1.0158 - val_acc: 0.7083\n",
      "Epoch 53/90\n",
      " - 26s - loss: 1.0499 - acc: 0.6876 - val_loss: 1.0122 - val_acc: 0.7095\n",
      "Epoch 54/90\n",
      " - 26s - loss: 1.0449 - acc: 0.6884 - val_loss: 1.0121 - val_acc: 0.7092\n",
      "Epoch 55/90\n",
      " - 26s - loss: 1.0459 - acc: 0.6880 - val_loss: 1.0145 - val_acc: 0.7080\n",
      "Epoch 56/90\n",
      " - 26s - loss: 1.0451 - acc: 0.6887 - val_loss: 1.0131 - val_acc: 0.7094\n",
      "Epoch 57/90\n",
      " - 26s - loss: 1.0484 - acc: 0.6893 - val_loss: 1.0133 - val_acc: 0.7090\n",
      "Epoch 58/90\n",
      " - 26s - loss: 1.0482 - acc: 0.6878 - val_loss: 1.0144 - val_acc: 0.7079\n",
      "Epoch 59/90\n",
      " - 26s - loss: 1.0510 - acc: 0.6885 - val_loss: 1.0145 - val_acc: 0.7089\n",
      "Epoch 60/90\n",
      " - 26s - loss: 1.0466 - acc: 0.6867 - val_loss: 1.0148 - val_acc: 0.7084\n",
      "Epoch 61/90\n",
      " - 26s - loss: 1.0453 - acc: 0.6894 - val_loss: 1.0131 - val_acc: 0.7093\n",
      "Epoch 62/90\n",
      " - 26s - loss: 1.0493 - acc: 0.6863 - val_loss: 1.0129 - val_acc: 0.7087\n",
      "Epoch 63/90\n",
      " - 26s - loss: 1.0422 - acc: 0.6865 - val_loss: 1.0158 - val_acc: 0.7085\n",
      "Epoch 64/90\n",
      " - 26s - loss: 1.0448 - acc: 0.6890 - val_loss: 1.0129 - val_acc: 0.7098\n",
      "Epoch 65/90\n",
      " - 26s - loss: 1.0469 - acc: 0.6894 - val_loss: 1.0130 - val_acc: 0.7093\n",
      "Epoch 66/90\n",
      " - 25s - loss: 1.0464 - acc: 0.6891 - val_loss: 1.0139 - val_acc: 0.7086\n",
      "Epoch 67/90\n",
      " - 25s - loss: 1.0449 - acc: 0.6864 - val_loss: 1.0142 - val_acc: 0.7093\n",
      "Epoch 68/90\n",
      " - 25s - loss: 1.0451 - acc: 0.6886 - val_loss: 1.0127 - val_acc: 0.7104\n",
      "Epoch 69/90\n",
      " - 25s - loss: 1.0456 - acc: 0.6889 - val_loss: 1.0125 - val_acc: 0.7087\n",
      "Epoch 70/90\n",
      " - 25s - loss: 1.0474 - acc: 0.6897 - val_loss: 1.0127 - val_acc: 0.7094\n",
      "Epoch 71/90\n",
      " - 25s - loss: 1.0457 - acc: 0.6874 - val_loss: 1.0139 - val_acc: 0.7094\n",
      "Epoch 72/90\n",
      " - 25s - loss: 1.0471 - acc: 0.6876 - val_loss: 1.0129 - val_acc: 0.7087\n",
      "Epoch 73/90\n",
      " - 25s - loss: 1.0446 - acc: 0.6884 - val_loss: 1.0142 - val_acc: 0.7090\n",
      "Epoch 74/90\n",
      " - 25s - loss: 1.0520 - acc: 0.6871 - val_loss: 1.0126 - val_acc: 0.7102\n",
      "Epoch 75/90\n",
      " - 25s - loss: 1.0524 - acc: 0.6854 - val_loss: 1.0122 - val_acc: 0.7094\n",
      "Epoch 76/90\n",
      " - 25s - loss: 1.0492 - acc: 0.6877 - val_loss: 1.0144 - val_acc: 0.7083\n",
      "Epoch 77/90\n",
      " - 25s - loss: 1.0441 - acc: 0.6882 - val_loss: 1.0122 - val_acc: 0.7098\n",
      "Epoch 78/90\n",
      " - 25s - loss: 1.0478 - acc: 0.6879 - val_loss: 1.0126 - val_acc: 0.7096\n",
      "Epoch 79/90\n",
      " - 25s - loss: 1.0465 - acc: 0.6887 - val_loss: 1.0119 - val_acc: 0.7095\n",
      "Epoch 80/90\n",
      " - 25s - loss: 1.0425 - acc: 0.6883 - val_loss: 1.0125 - val_acc: 0.7097\n",
      "Epoch 81/90\n",
      " - 25s - loss: 1.0446 - acc: 0.6876 - val_loss: 1.0112 - val_acc: 0.7098\n",
      "Epoch 82/90\n",
      " - 25s - loss: 1.0496 - acc: 0.6869 - val_loss: 1.0130 - val_acc: 0.7092\n",
      "Epoch 83/90\n",
      " - 25s - loss: 1.0464 - acc: 0.6891 - val_loss: 1.0120 - val_acc: 0.7099\n",
      "Epoch 84/90\n",
      " - 25s - loss: 1.0451 - acc: 0.6881 - val_loss: 1.0118 - val_acc: 0.7103\n",
      "Epoch 85/90\n",
      " - 25s - loss: 1.0458 - acc: 0.6897 - val_loss: 1.0127 - val_acc: 0.7096\n",
      "Epoch 86/90\n",
      " - 25s - loss: 1.0491 - acc: 0.6860 - val_loss: 1.0143 - val_acc: 0.7092\n",
      "Epoch 87/90\n",
      " - 25s - loss: 1.0471 - acc: 0.6872 - val_loss: 1.0110 - val_acc: 0.7096\n",
      "Epoch 88/90\n",
      " - 25s - loss: 1.0466 - acc: 0.6893 - val_loss: 1.0122 - val_acc: 0.7097\n",
      "Epoch 89/90\n",
      " - 25s - loss: 1.0472 - acc: 0.6876 - val_loss: 1.0110 - val_acc: 0.7092\n",
      "Epoch 90/90\n",
      " - 25s - loss: 1.0460 - acc: 0.6885 - val_loss: 1.0123 - val_acc: 0.7098\n"
     ]
    }
   ],
   "source": [
    "if not data_augmentation:\n",
    "    print('Not using data augmentation.')\n",
    "    history = model.fit(x_train, y_train,\n",
    "              batch_size=batch_size,\n",
    "              epochs=epochs,\n",
    "              verbose=2,\n",
    "              validation_data=(x_test, y_test),\n",
    "              shuffle=True)\n",
    "else:\n",
    "    print('Using real-time data augmentation.')\n",
    "    # This will do preprocessing and realtime data augmentation:\n",
    "    datagen = ImageDataGenerator(\n",
    "        featurewise_center=False,  # set input mean to 0 over the dataset\n",
    "        samplewise_center=False,  # set each sample mean to 0\n",
    "        featurewise_std_normalization=False,  # divide inputs by std of the dataset\n",
    "        samplewise_std_normalization=False,  # divide each input by its std\n",
    "        zca_whitening=False,  # apply ZCA whitening\n",
    "        rotation_range=15,  # randomly rotate images in the range (degrees, 0 to 180)\n",
    "        width_shift_range=0.1,  # randomly shift images horizontally (fraction of total width)\n",
    "        height_shift_range=0.1,  # randomly shift images vertically (fraction of total height)\n",
    "        horizontal_flip=True,  # randomly flip images\n",
    "        vertical_flip=False)  # randomly flip images\n",
    "\n",
    "    # Compute quantities required for feature-wise normalization\n",
    "    # (std, mean, and principal components if ZCA whitening is applied).\n",
    "    datagen.fit(x_train)\n",
    "    \n",
    "    def exp_decay(epoch):\n",
    "        initial_lrate = 0.1\n",
    "        k = 0.1\n",
    "        lrate = initial_lrate * math.exp(-k*epoch)\n",
    "        return lrate\n",
    "\n",
    "    # Fit the model on the batches generated by datagen.flow().\n",
    "    history = model.fit_generator(datagen.flow(x_train, y_train,\n",
    "                    batch_size=batch_size),\n",
    "                    epochs=epochs,\n",
    "                    verbose=2,\n",
    "                    validation_data=(x_test, y_test),\n",
    "                    callbacks=[LearningRateScheduler(exp_decay)],\n",
    "                    workers=4)\n"
   ]
  },
  {
   "cell_type": "code",
   "execution_count": 13,
   "metadata": {},
   "outputs": [
    {
     "data": {
      "image/png": "[encoded data removed]",
      "text/plain": [
       "<Figure size 432x288 with 1 Axes>"
      ]
     },
     "metadata": {},
     "output_type": "display_data"
    }
   ],
   "source": [
    "# summarize history for accuracy\n",
    "plt.plot(history.history['acc'])\n",
    "plt.plot(history.history['val_acc'])\n",
    "plt.title('aug_adagrad model accuracy')\n",
    "plt.ylabel('accuracy')\n",
    "plt.xlabel('epoch')\n",
    "plt.legend(['train', 'test'], loc='upper left')\n",
    "plt.show()"
   ]
  },
  {
   "cell_type": "code",
   "execution_count": 14,
   "metadata": {},
   "outputs": [
    {
     "data": {
      "image/png": "[encoded data removed]",
      "text/plain": [
       "<Figure size 432x288 with 1 Axes>"
      ]
     },
     "metadata": {},
     "output_type": "display_data"
    }
   ],
   "source": [
    "# summarize history for loss\n",
    "plt.plot(history.history['loss'])\n",
    "plt.plot(history.history['val_loss'])\n",
    "plt.title('aug_adagrad model loss')\n",
    "plt.ylabel('loss')\n",
    "plt.xlabel('epoch')\n",
    "plt.legend(['train', 'test'], loc='upper left')\n",
    "plt.show()"
   ]
  },
  {
   "cell_type": "markdown",
   "metadata": {},
   "source": [
    "### Test the model"
   ]
  },
  {
   "cell_type": "code",
   "execution_count": 15,
   "metadata": {},
   "outputs": [],
   "source": [
    "aug_adagrad_score = model.evaluate(x_test, y_test, verbose=0)"
   ]
  },
  {
   "cell_type": "code",
   "execution_count": 16,
   "metadata": {},
   "outputs": [
    {
     "name": "stdout",
     "output_type": "stream",
     "text": [
      "cv loss: 1.0123239295959472\n"
     ]
    }
   ],
   "source": [
    "print('cv loss:', aug_adagrad_score[0])"
   ]
  },
  {
   "cell_type": "code",
   "execution_count": 17,
   "metadata": {},
   "outputs": [
    {
     "name": "stdout",
     "output_type": "stream",
     "text": [
      "cv accuracy: 0.7098\n"
     ]
    }
   ],
   "source": [
    "print('cv accuracy:', aug_adagrad_score[1])"
   ]
  }
 ],
 "metadata": {
  "kernelspec": {
   "display_name": "Python 3",
   "language": "python",
   "name": "python3"
  },
  "language_info": {
   "codemirror_mode": {
    "name": "ipython",
    "version": 3
   },
   "file_extension": ".py",
   "mimetype": "text/x-python",
   "name": "python",
   "nbconvert_exporter": "python",
   "pygments_lexer": "ipython3",
   "version": "3.5.2"
  }
 },
 "nbformat": 4,
 "nbformat_minor": 1
}
