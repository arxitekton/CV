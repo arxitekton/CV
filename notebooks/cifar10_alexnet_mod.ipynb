{
 "cells": [
  {
   "cell_type": "markdown",
   "metadata": {},
   "source": [
    "# Convolutional neural networks"
   ]
  },
  {
   "cell_type": "code",
   "execution_count": 1,
   "metadata": {},
   "outputs": [
    {
     "name": "stderr",
     "output_type": "stream",
     "text": [
      "/usr/local/lib/python3.5/dist-packages/h5py/__init__.py:36: FutureWarning: Conversion of the second argument of issubdtype from `float` to `np.floating` is deprecated. In future, it will be treated as `np.float64 == np.dtype(float).type`.\n",
      "  from ._conv import register_converters as _register_converters\n",
      "Using TensorFlow backend.\n"
     ]
    }
   ],
   "source": [
    "import pickle\n",
    "import numpy as np\n",
    "import keras\n",
    "import matplotlib.pyplot as plt"
   ]
  },
  {
   "cell_type": "code",
   "execution_count": 2,
   "metadata": {},
   "outputs": [],
   "source": [
    "from tensorflow.python.client import device_lib"
   ]
  },
  {
   "cell_type": "code",
   "execution_count": 3,
   "metadata": {},
   "outputs": [
    {
     "name": "stdout",
     "output_type": "stream",
     "text": [
      "[name: \"/device:CPU:0\"\n",
      "device_type: \"CPU\"\n",
      "memory_limit: 268435456\n",
      "locality {\n",
      "}\n",
      "incarnation: 15533313045890763100\n",
      ", name: \"/device:GPU:0\"\n",
      "device_type: \"GPU\"\n",
      "memory_limit: 3402235904\n",
      "locality {\n",
      "  bus_id: 1\n",
      "}\n",
      "incarnation: 11318804204817027827\n",
      "physical_device_desc: \"device: 0, name: GeForce GTX 1050 Ti, pci bus id: 0000:01:00.0, compute capability: 6.1\"\n",
      "]\n"
     ]
    }
   ],
   "source": [
    "print(device_lib.list_local_devices())"
   ]
  },
  {
   "cell_type": "code",
   "execution_count": 4,
   "metadata": {},
   "outputs": [
    {
     "data": {
      "text/plain": [
       "['/job:localhost/replica:0/task:0/device:GPU:0']"
      ]
     },
     "execution_count": 4,
     "metadata": {},
     "output_type": "execute_result"
    }
   ],
   "source": [
    "from keras import backend as K\n",
    "K.tensorflow_backend._get_available_gpus()"
   ]
  },
  {
   "cell_type": "markdown",
   "metadata": {},
   "source": [
    "## Building AlexNet like"
   ]
  },
  {
   "cell_type": "code",
   "execution_count": 23,
   "metadata": {},
   "outputs": [],
   "source": [
    "import keras\n",
    "from keras.datasets import cifar10\n",
    "from keras.models import Sequential\n",
    "from keras.layers import Dense, Dropout, Flatten, Activation\n",
    "from keras.layers import Conv2D, MaxPooling2D, BatchNormalization\n",
    "from keras.optimizers import Adam, Adamax, Adagrad,RMSprop\n",
    "from keras.preprocessing import image\n",
    "from keras.preprocessing.image import ImageDataGenerator\n",
    "from keras import regularizers\n",
    "from keras.optimizers import SGD\n",
    "from keras.utils import np_utils\n",
    "from keras.callbacks import LearningRateScheduler\n",
    "import numpy as np\n",
    "import scipy"
   ]
  },
  {
   "cell_type": "code",
   "execution_count": 6,
   "metadata": {},
   "outputs": [],
   "source": [
    "# Hyperparameters\n",
    "batch_size = 128\n",
    "num_classes = 10\n",
    "epochs = 60"
   ]
  },
  {
   "cell_type": "code",
   "execution_count": 7,
   "metadata": {},
   "outputs": [],
   "source": [
    "# Load CIFAR10 Data\n",
    "(x_train, y_train), (x_test, y_test) = cifar10.load_data()"
   ]
  },
  {
   "cell_type": "code",
   "execution_count": 8,
   "metadata": {},
   "outputs": [],
   "source": [
    "img_height, img_width, channel = x_train.shape[1],x_train.shape[2],x_train.shape[3]"
   ]
  },
  {
   "cell_type": "code",
   "execution_count": 9,
   "metadata": {},
   "outputs": [],
   "source": [
    "# convert to one hot encoing \n",
    "y_train = keras.utils.to_categorical(y_train, num_classes)\n",
    "y_test = keras.utils.to_categorical(y_test, num_classes)"
   ]
  },
  {
   "cell_type": "code",
   "execution_count": 10,
   "metadata": {},
   "outputs": [],
   "source": [
    "alex_model = Sequential()\n",
    "alex_model.add(Conv2D(64, (3, 3), padding='same', input_shape=(img_height, img_width, channel,)))\n",
    "alex_model.add(BatchNormalization())\n",
    "alex_model.add(Activation('relu'))\n",
    "alex_model.add(MaxPooling2D(pool_size=(2, 2)))\n",
    "\n",
    "alex_model.add(Conv2D(128, (7, 7), padding='same'))\n",
    "alex_model.add(BatchNormalization())\n",
    "alex_model.add(Activation('relu'))\n",
    "alex_model.add(MaxPooling2D(pool_size=(2, 2)))\n",
    "\n",
    "alex_model.add(Conv2D(192, (3, 3), padding='same'))\n",
    "alex_model.add(BatchNormalization())\n",
    "alex_model.add(Activation('relu'))\n",
    "alex_model.add(MaxPooling2D(pool_size=(2, 2)))\n",
    "\n",
    "alex_model.add(Conv2D(256, (3, 3), padding='same'))\n",
    "alex_model.add(BatchNormalization())\n",
    "alex_model.add(Activation('relu'))\n",
    "alex_model.add(MaxPooling2D(pool_size=(1, 1)))\n",
    "\n",
    "alex_model.add(Flatten())\n",
    "alex_model.add(Dense(4096))\n",
    "alex_model.add(BatchNormalization())\n",
    "alex_model.add(Activation('relu'))\n",
    "alex_model.add(Dense(4096))\n",
    "alex_model.add(BatchNormalization())\n",
    "alex_model.add(Activation('relu'))\n",
    "alex_model.add(Dense(10))\n",
    "alex_model.add(BatchNormalization())\n",
    "alex_model.add(Activation('softmax'))"
   ]
  },
  {
   "cell_type": "code",
   "execution_count": 11,
   "metadata": {},
   "outputs": [
    {
     "name": "stdout",
     "output_type": "stream",
     "text": [
      "_________________________________________________________________\n",
      "Layer (type)                 Output Shape              Param #   \n",
      "=================================================================\n",
      "conv2d_1 (Conv2D)            (None, 32, 32, 64)        1792      \n",
      "_________________________________________________________________\n",
      "batch_normalization_1 (Batch (None, 32, 32, 64)        256       \n",
      "_________________________________________________________________\n",
      "activation_1 (Activation)    (None, 32, 32, 64)        0         \n",
      "_________________________________________________________________\n",
      "max_pooling2d_1 (MaxPooling2 (None, 16, 16, 64)        0         \n",
      "_________________________________________________________________\n",
      "conv2d_2 (Conv2D)            (None, 16, 16, 128)       401536    \n",
      "_________________________________________________________________\n",
      "batch_normalization_2 (Batch (None, 16, 16, 128)       512       \n",
      "_________________________________________________________________\n",
      "activation_2 (Activation)    (None, 16, 16, 128)       0         \n",
      "_________________________________________________________________\n",
      "max_pooling2d_2 (MaxPooling2 (None, 8, 8, 128)         0         \n",
      "_________________________________________________________________\n",
      "conv2d_3 (Conv2D)            (None, 8, 8, 192)         221376    \n",
      "_________________________________________________________________\n",
      "batch_normalization_3 (Batch (None, 8, 8, 192)         768       \n",
      "_________________________________________________________________\n",
      "activation_3 (Activation)    (None, 8, 8, 192)         0         \n",
      "_________________________________________________________________\n",
      "max_pooling2d_3 (MaxPooling2 (None, 4, 4, 192)         0         \n",
      "_________________________________________________________________\n",
      "conv2d_4 (Conv2D)            (None, 4, 4, 256)         442624    \n",
      "_________________________________________________________________\n",
      "batch_normalization_4 (Batch (None, 4, 4, 256)         1024      \n",
      "_________________________________________________________________\n",
      "activation_4 (Activation)    (None, 4, 4, 256)         0         \n",
      "_________________________________________________________________\n",
      "max_pooling2d_4 (MaxPooling2 (None, 4, 4, 256)         0         \n",
      "_________________________________________________________________\n",
      "flatten_1 (Flatten)          (None, 4096)              0         \n",
      "_________________________________________________________________\n",
      "dense_1 (Dense)              (None, 4096)              16781312  \n",
      "_________________________________________________________________\n",
      "batch_normalization_5 (Batch (None, 4096)              16384     \n",
      "_________________________________________________________________\n",
      "activation_5 (Activation)    (None, 4096)              0         \n",
      "_________________________________________________________________\n",
      "dense_2 (Dense)              (None, 4096)              16781312  \n",
      "_________________________________________________________________\n",
      "batch_normalization_6 (Batch (None, 4096)              16384     \n",
      "_________________________________________________________________\n",
      "activation_6 (Activation)    (None, 4096)              0         \n",
      "_________________________________________________________________\n",
      "dense_3 (Dense)              (None, 10)                40970     \n",
      "_________________________________________________________________\n",
      "batch_normalization_7 (Batch (None, 10)                40        \n",
      "_________________________________________________________________\n",
      "activation_7 (Activation)    (None, 10)                0         \n",
      "=================================================================\n",
      "Total params: 34,706,290\n",
      "Trainable params: 34,688,606\n",
      "Non-trainable params: 17,684\n",
      "_________________________________________________________________\n"
     ]
    }
   ],
   "source": [
    "# print the model summary\n",
    "alex_model.summary()"
   ]
  },
  {
   "cell_type": "code",
   "execution_count": 12,
   "metadata": {},
   "outputs": [],
   "source": [
    "# determine Loss function and Optimizer\n",
    "alex_model.compile(loss='categorical_crossentropy',\n",
    "            optimizer=Adam(),\n",
    "            metrics=['accuracy'])"
   ]
  },
  {
   "cell_type": "markdown",
   "metadata": {},
   "source": [
    "## Training"
   ]
  },
  {
   "cell_type": "code",
   "execution_count": 13,
   "metadata": {},
   "outputs": [
    {
     "name": "stdout",
     "output_type": "stream",
     "text": [
      "Train on 50000 samples, validate on 10000 samples\n",
      "Epoch 1/60\n",
      " - 57s - loss: 1.1979 - acc: 0.5976 - val_loss: 1.5996 - val_acc: 0.4813\n",
      "Epoch 2/60\n",
      " - 55s - loss: 0.8333 - acc: 0.7309 - val_loss: 1.1407 - val_acc: 0.6251\n",
      "Epoch 3/60\n",
      " - 55s - loss: 0.6510 - acc: 0.7923 - val_loss: 0.9720 - val_acc: 0.6814\n",
      "Epoch 4/60\n",
      " - 55s - loss: 0.5262 - acc: 0.8327 - val_loss: 1.2196 - val_acc: 0.5995\n",
      "Epoch 5/60\n",
      " - 55s - loss: 0.4067 - acc: 0.8717 - val_loss: 1.1717 - val_acc: 0.6338\n",
      "Epoch 6/60\n",
      " - 55s - loss: 0.3104 - acc: 0.9041 - val_loss: 0.8229 - val_acc: 0.7403\n",
      "Epoch 7/60\n",
      " - 55s - loss: 0.2295 - acc: 0.9310 - val_loss: 0.7757 - val_acc: 0.7564\n",
      "Epoch 8/60\n",
      " - 55s - loss: 0.1683 - acc: 0.9500 - val_loss: 0.8191 - val_acc: 0.7552\n",
      "Epoch 9/60\n",
      " - 55s - loss: 0.1273 - acc: 0.9642 - val_loss: 0.9219 - val_acc: 0.7365\n",
      "Epoch 10/60\n",
      " - 55s - loss: 0.1132 - acc: 0.9668 - val_loss: 0.7755 - val_acc: 0.7824\n",
      "Epoch 11/60\n",
      " - 55s - loss: 0.0858 - acc: 0.9761 - val_loss: 1.0043 - val_acc: 0.7374\n",
      "Epoch 12/60\n",
      " - 55s - loss: 0.0786 - acc: 0.9767 - val_loss: 0.8711 - val_acc: 0.7715\n",
      "Epoch 13/60\n",
      " - 55s - loss: 0.0751 - acc: 0.9785 - val_loss: 1.0855 - val_acc: 0.7214\n",
      "Epoch 14/60\n",
      " - 55s - loss: 0.0629 - acc: 0.9817 - val_loss: 1.1249 - val_acc: 0.7204\n",
      "Epoch 15/60\n",
      " - 55s - loss: 0.0558 - acc: 0.9839 - val_loss: 1.0337 - val_acc: 0.7470\n",
      "Epoch 16/60\n",
      " - 55s - loss: 0.0580 - acc: 0.9830 - val_loss: 0.9153 - val_acc: 0.7724\n",
      "Epoch 17/60\n",
      " - 55s - loss: 0.0444 - acc: 0.9873 - val_loss: 1.0013 - val_acc: 0.7619\n",
      "Epoch 18/60\n",
      " - 55s - loss: 0.0465 - acc: 0.9862 - val_loss: 1.1319 - val_acc: 0.7354\n",
      "Epoch 19/60\n",
      " - 55s - loss: 0.0431 - acc: 0.9866 - val_loss: 1.2181 - val_acc: 0.7133\n",
      "Epoch 20/60\n",
      " - 55s - loss: 0.0427 - acc: 0.9870 - val_loss: 1.0354 - val_acc: 0.7591\n",
      "Epoch 21/60\n",
      " - 55s - loss: 0.0436 - acc: 0.9870 - val_loss: 1.1135 - val_acc: 0.7457\n",
      "Epoch 22/60\n",
      " - 55s - loss: 0.0312 - acc: 0.9906 - val_loss: 1.0940 - val_acc: 0.7516\n",
      "Epoch 23/60\n",
      " - 55s - loss: 0.0316 - acc: 0.9904 - val_loss: 0.9873 - val_acc: 0.7753\n",
      "Epoch 24/60\n",
      " - 55s - loss: 0.0335 - acc: 0.9892 - val_loss: 1.0057 - val_acc: 0.7693\n",
      "Epoch 25/60\n",
      " - 55s - loss: 0.0263 - acc: 0.9924 - val_loss: 1.2363 - val_acc: 0.7370\n",
      "Epoch 26/60\n",
      " - 55s - loss: 0.0369 - acc: 0.9877 - val_loss: 1.1363 - val_acc: 0.7392\n",
      "Epoch 27/60\n",
      " - 55s - loss: 0.0288 - acc: 0.9911 - val_loss: 1.7674 - val_acc: 0.6404\n",
      "Epoch 28/60\n",
      " - 55s - loss: 0.0270 - acc: 0.9918 - val_loss: 1.1934 - val_acc: 0.7500\n",
      "Epoch 29/60\n",
      " - 55s - loss: 0.0280 - acc: 0.9917 - val_loss: 0.9519 - val_acc: 0.7922\n",
      "Epoch 30/60\n",
      " - 55s - loss: 0.0172 - acc: 0.9951 - val_loss: 1.1441 - val_acc: 0.7606\n",
      "Epoch 31/60\n",
      " - 55s - loss: 0.0226 - acc: 0.9933 - val_loss: 1.0419 - val_acc: 0.7732\n",
      "Epoch 32/60\n",
      " - 55s - loss: 0.0301 - acc: 0.9901 - val_loss: 1.6286 - val_acc: 0.6756\n",
      "Epoch 33/60\n",
      " - 55s - loss: 0.0186 - acc: 0.9945 - val_loss: 1.0767 - val_acc: 0.7711\n",
      "Epoch 34/60\n",
      " - 55s - loss: 0.0147 - acc: 0.9957 - val_loss: 1.2269 - val_acc: 0.7488\n",
      "Epoch 35/60\n",
      " - 55s - loss: 0.0254 - acc: 0.9921 - val_loss: 1.2904 - val_acc: 0.7358\n",
      "Epoch 36/60\n",
      " - 55s - loss: 0.0227 - acc: 0.9927 - val_loss: 1.0701 - val_acc: 0.7816\n",
      "Epoch 37/60\n",
      " - 56s - loss: 0.0189 - acc: 0.9943 - val_loss: 0.9850 - val_acc: 0.7934\n",
      "Epoch 38/60\n",
      " - 58s - loss: 0.0173 - acc: 0.9949 - val_loss: 1.1837 - val_acc: 0.7578\n",
      "Epoch 39/60\n",
      " - 57s - loss: 0.0165 - acc: 0.9949 - val_loss: 1.1814 - val_acc: 0.7641\n",
      "Epoch 40/60\n",
      " - 56s - loss: 0.0173 - acc: 0.9947 - val_loss: 1.1043 - val_acc: 0.7701\n",
      "Epoch 41/60\n",
      " - 56s - loss: 0.0163 - acc: 0.9953 - val_loss: 1.1458 - val_acc: 0.7754\n",
      "Epoch 42/60\n",
      " - 56s - loss: 0.0099 - acc: 0.9971 - val_loss: 1.2837 - val_acc: 0.7441\n",
      "Epoch 43/60\n",
      " - 56s - loss: 0.0232 - acc: 0.9926 - val_loss: 1.1514 - val_acc: 0.7625\n",
      "Epoch 44/60\n",
      " - 56s - loss: 0.0176 - acc: 0.9943 - val_loss: 1.0291 - val_acc: 0.7884\n",
      "Epoch 45/60\n",
      " - 56s - loss: 0.0121 - acc: 0.9962 - val_loss: 1.0434 - val_acc: 0.7847\n",
      "Epoch 46/60\n",
      " - 56s - loss: 0.0106 - acc: 0.9966 - val_loss: 1.2676 - val_acc: 0.7574\n",
      "Epoch 47/60\n",
      " - 56s - loss: 0.0191 - acc: 0.9936 - val_loss: 1.0702 - val_acc: 0.7860\n",
      "Epoch 48/60\n",
      " - 57s - loss: 0.0133 - acc: 0.9956 - val_loss: 1.1248 - val_acc: 0.7762\n",
      "Epoch 49/60\n",
      " - 57s - loss: 0.0173 - acc: 0.9942 - val_loss: 1.3056 - val_acc: 0.7413\n",
      "Epoch 50/60\n",
      " - 57s - loss: 0.0108 - acc: 0.9968 - val_loss: 0.9134 - val_acc: 0.8120\n",
      "Epoch 51/60\n",
      " - 57s - loss: 0.0061 - acc: 0.9983 - val_loss: 1.0287 - val_acc: 0.7968\n",
      "Epoch 52/60\n",
      " - 59s - loss: 0.0143 - acc: 0.9954 - val_loss: 1.4872 - val_acc: 0.7091\n",
      "Epoch 53/60\n",
      " - 55s - loss: 0.0203 - acc: 0.9938 - val_loss: 1.4968 - val_acc: 0.7022\n",
      "Epoch 54/60\n",
      " - 57s - loss: 0.0118 - acc: 0.9962 - val_loss: 1.1181 - val_acc: 0.7835\n",
      "Epoch 55/60\n",
      " - 56s - loss: 0.0055 - acc: 0.9984 - val_loss: 1.1634 - val_acc: 0.7745\n",
      "Epoch 56/60\n",
      " - 56s - loss: 0.0119 - acc: 0.9964 - val_loss: 1.0683 - val_acc: 0.7944\n",
      "Epoch 57/60\n",
      " - 55s - loss: 0.0157 - acc: 0.9947 - val_loss: 1.1282 - val_acc: 0.7763\n",
      "Epoch 58/60\n",
      " - 55s - loss: 0.0089 - acc: 0.9973 - val_loss: 0.9640 - val_acc: 0.8092\n",
      "Epoch 59/60\n",
      " - 55s - loss: 0.0080 - acc: 0.9974 - val_loss: 1.1592 - val_acc: 0.7714\n",
      "Epoch 60/60\n",
      " - 55s - loss: 0.0109 - acc: 0.9966 - val_loss: 1.5460 - val_acc: 0.7191\n"
     ]
    }
   ],
   "source": [
    "history = alex_model.fit(x_train, y_train,\n",
    "            batch_size=batch_size,\n",
    "            epochs=epochs,\n",
    "            verbose=2,\n",
    "            validation_data=(x_test, y_test))"
   ]
  },
  {
   "cell_type": "code",
   "execution_count": 14,
   "metadata": {},
   "outputs": [
    {
     "name": "stdout",
     "output_type": "stream",
     "text": [
      "dict_keys(['loss', 'val_loss', 'acc', 'val_acc'])\n"
     ]
    }
   ],
   "source": [
    "# list all data in history\n",
    "print(history.history.keys())"
   ]
  },
  {
   "cell_type": "code",
   "execution_count": 15,
   "metadata": {},
   "outputs": [
    {
     "data": {
      "image/png": "[encoded data removed]",
      "text/plain": [
       "<Figure size 432x288 with 1 Axes>"
      ]
     },
     "metadata": {},
     "output_type": "display_data"
    }
   ],
   "source": [
    "# summarize history for accuracy\n",
    "plt.plot(history.history['acc'])\n",
    "plt.plot(history.history['val_acc'])\n",
    "plt.title('model accuracy')\n",
    "plt.ylabel('accuracy')\n",
    "plt.xlabel('epoch')\n",
    "plt.legend(['train', 'test'], loc='upper left')\n",
    "plt.show()"
   ]
  },
  {
   "cell_type": "code",
   "execution_count": 16,
   "metadata": {},
   "outputs": [
    {
     "data": {
      "image/png": "[encoded data removed]",
      "text/plain": [
       "<Figure size 432x288 with 1 Axes>"
      ]
     },
     "metadata": {},
     "output_type": "display_data"
    }
   ],
   "source": [
    "# summarize history for loss\n",
    "plt.plot(history.history['loss'])\n",
    "plt.plot(history.history['val_loss'])\n",
    "plt.title('model loss')\n",
    "plt.ylabel('loss')\n",
    "plt.xlabel('epoch')\n",
    "plt.legend(['train', 'test'], loc='upper left')\n",
    "plt.show()"
   ]
  },
  {
   "cell_type": "code",
   "execution_count": 17,
   "metadata": {},
   "outputs": [],
   "source": [
    "score = alex_model.evaluate(x_test, y_test, verbose=0)"
   ]
  },
  {
   "cell_type": "code",
   "execution_count": 18,
   "metadata": {},
   "outputs": [
    {
     "name": "stdout",
     "output_type": "stream",
     "text": [
      "cv loss: 1.5459695719718933\n"
     ]
    }
   ],
   "source": [
    "print('cv loss:', score[0])"
   ]
  },
  {
   "cell_type": "code",
   "execution_count": 19,
   "metadata": {},
   "outputs": [
    {
     "name": "stdout",
     "output_type": "stream",
     "text": [
      "cv accuracy: 0.7191\n"
     ]
    }
   ],
   "source": [
    "print('cv accuracy:', score[1])"
   ]
  },
  {
   "cell_type": "markdown",
   "metadata": {},
   "source": [
    "## Modification AlexNet (improving)"
   ]
  },
  {
   "cell_type": "code",
   "execution_count": 76,
   "metadata": {},
   "outputs": [],
   "source": [
    "# Hyperparameters\n",
    "batch_size = 128\n",
    "epochs = 60"
   ]
  },
  {
   "cell_type": "code",
   "execution_count": 77,
   "metadata": {},
   "outputs": [],
   "source": [
    "(x_train, y_train), (x_test, y_test) = cifar10.load_data()\n",
    "x_train = x_train.astype('float32')\n",
    "x_test = x_test.astype('float32')\n",
    "\n",
    "#z-score\n",
    "mean = np.mean(x_train,axis=(0,1,2,3))\n",
    "std = np.std(x_train,axis=(0,1,2,3))\n",
    "x_train = (x_train-mean)/(std+1e-7)\n",
    "x_test = (x_test-mean)/(std+1e-7)\n",
    "\n",
    "num_classes = 10\n",
    "y_train = np_utils.to_categorical(y_train,num_classes)\n",
    "y_test = np_utils.to_categorical(y_test,num_classes)"
   ]
  },
  {
   "cell_type": "code",
   "execution_count": 78,
   "metadata": {},
   "outputs": [],
   "source": [
    "weight_decay = 1e-4\n",
    "model = Sequential()\n",
    "model.add(Conv2D(32, (3,3), padding='same', kernel_regularizer=regularizers.l2(weight_decay), input_shape=x_train.shape[1:]))\n",
    "model.add(Activation('elu'))\n",
    "model.add(BatchNormalization())\n",
    "model.add(Conv2D(32, (3,3), padding='same', kernel_regularizer=regularizers.l2(weight_decay)))\n",
    "model.add(Activation('elu'))\n",
    "model.add(BatchNormalization())\n",
    "model.add(MaxPooling2D(pool_size=(2,2)))\n",
    "model.add(Dropout(0.2))\n",
    "\n",
    "model.add(Conv2D(64, (3,3), padding='same', kernel_regularizer=regularizers.l2(weight_decay)))\n",
    "model.add(Activation('elu'))\n",
    "model.add(BatchNormalization())\n",
    "model.add(Conv2D(64, (3,3), padding='same', kernel_regularizer=regularizers.l2(weight_decay)))\n",
    "model.add(Activation('elu'))\n",
    "model.add(BatchNormalization())\n",
    "model.add(MaxPooling2D(pool_size=(2,2)))\n",
    "model.add(Dropout(0.3))\n",
    "\n",
    "model.add(Conv2D(128, (3,3), padding='same', kernel_regularizer=regularizers.l2(weight_decay)))\n",
    "model.add(Activation('elu'))\n",
    "model.add(BatchNormalization())\n",
    "model.add(Conv2D(128, (3,3), padding='same', kernel_regularizer=regularizers.l2(weight_decay)))\n",
    "model.add(Activation('elu'))\n",
    "model.add(BatchNormalization())\n",
    "model.add(MaxPooling2D(pool_size=(2,2)))\n",
    "model.add(Dropout(0.4))\n",
    "\n",
    "model.add(Flatten())\n",
    "model.add(Dense(num_classes, activation='softmax'))"
   ]
  },
  {
   "cell_type": "code",
   "execution_count": 79,
   "metadata": {},
   "outputs": [
    {
     "name": "stdout",
     "output_type": "stream",
     "text": [
      "_________________________________________________________________\n",
      "Layer (type)                 Output Shape              Param #   \n",
      "=================================================================\n",
      "conv2d_11 (Conv2D)           (None, 32, 32, 32)        896       \n",
      "_________________________________________________________________\n",
      "activation_14 (Activation)   (None, 32, 32, 32)        0         \n",
      "_________________________________________________________________\n",
      "batch_normalization_14 (Batc (None, 32, 32, 32)        128       \n",
      "_________________________________________________________________\n",
      "conv2d_12 (Conv2D)           (None, 32, 32, 32)        9248      \n",
      "_________________________________________________________________\n",
      "activation_15 (Activation)   (None, 32, 32, 32)        0         \n",
      "_________________________________________________________________\n",
      "batch_normalization_15 (Batc (None, 32, 32, 32)        128       \n",
      "_________________________________________________________________\n",
      "max_pooling2d_8 (MaxPooling2 (None, 16, 16, 32)        0         \n",
      "_________________________________________________________________\n",
      "dropout_4 (Dropout)          (None, 16, 16, 32)        0         \n",
      "_________________________________________________________________\n",
      "conv2d_13 (Conv2D)           (None, 16, 16, 64)        18496     \n",
      "_________________________________________________________________\n",
      "activation_16 (Activation)   (None, 16, 16, 64)        0         \n",
      "_________________________________________________________________\n",
      "batch_normalization_16 (Batc (None, 16, 16, 64)        256       \n",
      "_________________________________________________________________\n",
      "conv2d_14 (Conv2D)           (None, 16, 16, 64)        36928     \n",
      "_________________________________________________________________\n",
      "activation_17 (Activation)   (None, 16, 16, 64)        0         \n",
      "_________________________________________________________________\n",
      "batch_normalization_17 (Batc (None, 16, 16, 64)        256       \n",
      "_________________________________________________________________\n",
      "max_pooling2d_9 (MaxPooling2 (None, 8, 8, 64)          0         \n",
      "_________________________________________________________________\n",
      "dropout_5 (Dropout)          (None, 8, 8, 64)          0         \n",
      "_________________________________________________________________\n",
      "conv2d_15 (Conv2D)           (None, 8, 8, 128)         73856     \n",
      "_________________________________________________________________\n",
      "activation_18 (Activation)   (None, 8, 8, 128)         0         \n",
      "_________________________________________________________________\n",
      "batch_normalization_18 (Batc (None, 8, 8, 128)         512       \n",
      "_________________________________________________________________\n",
      "conv2d_16 (Conv2D)           (None, 8, 8, 128)         147584    \n",
      "_________________________________________________________________\n",
      "activation_19 (Activation)   (None, 8, 8, 128)         0         \n",
      "_________________________________________________________________\n",
      "batch_normalization_19 (Batc (None, 8, 8, 128)         512       \n",
      "_________________________________________________________________\n",
      "max_pooling2d_10 (MaxPooling (None, 4, 4, 128)         0         \n",
      "_________________________________________________________________\n",
      "dropout_6 (Dropout)          (None, 4, 4, 128)         0         \n",
      "_________________________________________________________________\n",
      "flatten_3 (Flatten)          (None, 2048)              0         \n",
      "_________________________________________________________________\n",
      "dense_5 (Dense)              (None, 10)                20490     \n",
      "=================================================================\n",
      "Total params: 309,290\n",
      "Trainable params: 308,394\n",
      "Non-trainable params: 896\n",
      "_________________________________________________________________\n"
     ]
    }
   ],
   "source": [
    "# print the model summary\n",
    "model.summary()"
   ]
  },
  {
   "cell_type": "code",
   "execution_count": 80,
   "metadata": {},
   "outputs": [],
   "source": [
    "data_augmentation = False\n",
    "optimizer=Adam()"
   ]
  },
  {
   "cell_type": "code",
   "execution_count": 81,
   "metadata": {},
   "outputs": [],
   "source": [
    "# determine Loss function and Optimizer\n",
    "model.compile(loss='categorical_crossentropy',\n",
    "            optimizer=optimizer,\n",
    "            metrics=['accuracy'])"
   ]
  },
  {
   "cell_type": "markdown",
   "metadata": {},
   "source": [
    "### Train the Model"
   ]
  },
  {
   "cell_type": "code",
   "execution_count": 82,
   "metadata": {},
   "outputs": [
    {
     "name": "stdout",
     "output_type": "stream",
     "text": [
      "Not using data augmentation.\n",
      "Train on 50000 samples, validate on 10000 samples\n",
      "Epoch 1/60\n",
      " - 28s - loss: 1.7409 - acc: 0.4624 - val_loss: 1.1847 - val_acc: 0.6160\n",
      "Epoch 2/60\n",
      " - 26s - loss: 1.1175 - acc: 0.6330 - val_loss: 0.9113 - val_acc: 0.6998\n",
      "Epoch 3/60\n",
      " - 26s - loss: 0.9240 - acc: 0.6965 - val_loss: 0.8192 - val_acc: 0.7358\n",
      "Epoch 4/60\n",
      " - 26s - loss: 0.8236 - acc: 0.7322 - val_loss: 0.7896 - val_acc: 0.7446\n",
      "Epoch 5/60\n",
      " - 26s - loss: 0.7565 - acc: 0.7536 - val_loss: 0.7495 - val_acc: 0.7693\n",
      "Epoch 6/60\n",
      " - 26s - loss: 0.7012 - acc: 0.7756 - val_loss: 0.7230 - val_acc: 0.7694\n",
      "Epoch 7/60\n",
      " - 26s - loss: 0.6563 - acc: 0.7954 - val_loss: 0.6721 - val_acc: 0.7915\n",
      "Epoch 8/60\n",
      " - 26s - loss: 0.6188 - acc: 0.8061 - val_loss: 0.6431 - val_acc: 0.8063\n",
      "Epoch 9/60\n",
      " - 27s - loss: 0.5879 - acc: 0.8199 - val_loss: 0.6197 - val_acc: 0.8119\n",
      "Epoch 10/60\n",
      " - 26s - loss: 0.5613 - acc: 0.8301 - val_loss: 0.6518 - val_acc: 0.8085\n",
      "Epoch 11/60\n",
      " - 26s - loss: 0.5406 - acc: 0.8395 - val_loss: 0.6325 - val_acc: 0.8164\n",
      "Epoch 12/60\n",
      " - 26s - loss: 0.5230 - acc: 0.8460 - val_loss: 0.6072 - val_acc: 0.8234\n",
      "Epoch 13/60\n",
      " - 26s - loss: 0.5041 - acc: 0.8558 - val_loss: 0.5920 - val_acc: 0.8328\n",
      "Epoch 14/60\n",
      " - 26s - loss: 0.4882 - acc: 0.8632 - val_loss: 0.6273 - val_acc: 0.8239\n",
      "Epoch 15/60\n",
      " - 26s - loss: 0.4784 - acc: 0.8692 - val_loss: 0.6325 - val_acc: 0.8244\n",
      "Epoch 16/60\n",
      " - 26s - loss: 0.4612 - acc: 0.8752 - val_loss: 0.6095 - val_acc: 0.8378\n",
      "Epoch 17/60\n",
      " - 26s - loss: 0.4586 - acc: 0.8782 - val_loss: 0.6382 - val_acc: 0.8336\n",
      "Epoch 18/60\n",
      " - 26s - loss: 0.4491 - acc: 0.8824 - val_loss: 0.6490 - val_acc: 0.8297\n",
      "Epoch 19/60\n",
      " - 26s - loss: 0.4421 - acc: 0.8859 - val_loss: 0.6392 - val_acc: 0.8332\n",
      "Epoch 20/60\n",
      " - 26s - loss: 0.4323 - acc: 0.8911 - val_loss: 0.6339 - val_acc: 0.8384\n",
      "Epoch 21/60\n",
      " - 26s - loss: 0.4283 - acc: 0.8935 - val_loss: 0.6599 - val_acc: 0.8397\n",
      "Epoch 22/60\n",
      " - 27s - loss: 0.4210 - acc: 0.8959 - val_loss: 0.6190 - val_acc: 0.8460\n",
      "Epoch 23/60\n",
      " - 26s - loss: 0.4163 - acc: 0.9009 - val_loss: 0.6216 - val_acc: 0.8447\n",
      "Epoch 24/60\n",
      " - 26s - loss: 0.4129 - acc: 0.9015 - val_loss: 0.6255 - val_acc: 0.8523\n",
      "Epoch 25/60\n",
      " - 26s - loss: 0.4119 - acc: 0.9034 - val_loss: 0.6368 - val_acc: 0.8416\n",
      "Epoch 26/60\n",
      " - 26s - loss: 0.4037 - acc: 0.9076 - val_loss: 0.6575 - val_acc: 0.8433\n",
      "Epoch 27/60\n",
      " - 26s - loss: 0.4029 - acc: 0.9073 - val_loss: 0.6298 - val_acc: 0.8509\n",
      "Epoch 28/60\n",
      " - 26s - loss: 0.3964 - acc: 0.9120 - val_loss: 0.6464 - val_acc: 0.8465\n",
      "Epoch 29/60\n",
      " - 26s - loss: 0.3959 - acc: 0.9128 - val_loss: 0.6496 - val_acc: 0.8499\n",
      "Epoch 30/60\n",
      " - 26s - loss: 0.3934 - acc: 0.9128 - val_loss: 0.6510 - val_acc: 0.8485\n",
      "Epoch 31/60\n",
      " - 26s - loss: 0.3918 - acc: 0.9133 - val_loss: 0.6521 - val_acc: 0.8418\n",
      "Epoch 32/60\n",
      " - 26s - loss: 0.3908 - acc: 0.9147 - val_loss: 0.6475 - val_acc: 0.8537\n",
      "Epoch 33/60\n",
      " - 26s - loss: 0.3876 - acc: 0.9175 - val_loss: 0.6806 - val_acc: 0.8395\n",
      "Epoch 34/60\n",
      " - 26s - loss: 0.3865 - acc: 0.9182 - val_loss: 0.6873 - val_acc: 0.8442\n",
      "Epoch 35/60\n",
      " - 26s - loss: 0.3841 - acc: 0.9197 - val_loss: 0.6352 - val_acc: 0.8517\n",
      "Epoch 36/60\n",
      " - 26s - loss: 0.3819 - acc: 0.9211 - val_loss: 0.6498 - val_acc: 0.8522\n",
      "Epoch 37/60\n",
      " - 26s - loss: 0.3805 - acc: 0.9217 - val_loss: 0.6499 - val_acc: 0.8511\n",
      "Epoch 38/60\n",
      " - 26s - loss: 0.3787 - acc: 0.9224 - val_loss: 0.6568 - val_acc: 0.8504\n",
      "Epoch 39/60\n",
      " - 26s - loss: 0.3761 - acc: 0.9237 - val_loss: 0.6738 - val_acc: 0.8523\n",
      "Epoch 40/60\n",
      " - 26s - loss: 0.3710 - acc: 0.9257 - val_loss: 0.6635 - val_acc: 0.8568\n",
      "Epoch 41/60\n",
      " - 26s - loss: 0.3744 - acc: 0.9262 - val_loss: 0.6673 - val_acc: 0.8545\n",
      "Epoch 42/60\n",
      " - 26s - loss: 0.3701 - acc: 0.9264 - val_loss: 0.6584 - val_acc: 0.8538\n",
      "Epoch 43/60\n",
      " - 26s - loss: 0.3710 - acc: 0.9262 - val_loss: 0.6715 - val_acc: 0.8518\n",
      "Epoch 44/60\n",
      " - 26s - loss: 0.3740 - acc: 0.9268 - val_loss: 0.6743 - val_acc: 0.8522\n",
      "Epoch 45/60\n",
      " - 26s - loss: 0.3752 - acc: 0.9260 - val_loss: 0.6645 - val_acc: 0.8489\n",
      "Epoch 46/60\n",
      " - 26s - loss: 0.3633 - acc: 0.9307 - val_loss: 0.6787 - val_acc: 0.8537\n",
      "Epoch 47/60\n",
      " - 26s - loss: 0.3693 - acc: 0.9288 - val_loss: 0.6636 - val_acc: 0.8534\n",
      "Epoch 48/60\n",
      " - 26s - loss: 0.3666 - acc: 0.9304 - val_loss: 0.6942 - val_acc: 0.8518\n",
      "Epoch 49/60\n",
      " - 26s - loss: 0.3643 - acc: 0.9302 - val_loss: 0.6798 - val_acc: 0.8543\n",
      "Epoch 50/60\n",
      " - 26s - loss: 0.3610 - acc: 0.9323 - val_loss: 0.6525 - val_acc: 0.8580\n",
      "Epoch 51/60\n",
      " - 26s - loss: 0.3567 - acc: 0.9333 - val_loss: 0.6629 - val_acc: 0.8568\n",
      "Epoch 52/60\n",
      " - 26s - loss: 0.3578 - acc: 0.9323 - val_loss: 0.7107 - val_acc: 0.8514\n",
      "Epoch 53/60\n",
      " - 26s - loss: 0.3586 - acc: 0.9338 - val_loss: 0.6841 - val_acc: 0.8545\n",
      "Epoch 54/60\n",
      " - 26s - loss: 0.3630 - acc: 0.9319 - val_loss: 0.7277 - val_acc: 0.8480\n",
      "Epoch 55/60\n",
      " - 26s - loss: 0.3566 - acc: 0.9344 - val_loss: 0.6812 - val_acc: 0.8572\n",
      "Epoch 56/60\n",
      " - 26s - loss: 0.3546 - acc: 0.9348 - val_loss: 0.6754 - val_acc: 0.8570\n",
      "Epoch 57/60\n",
      " - 26s - loss: 0.3572 - acc: 0.9348 - val_loss: 0.6958 - val_acc: 0.8536\n",
      "Epoch 58/60\n",
      " - 26s - loss: 0.3563 - acc: 0.9345 - val_loss: 0.6615 - val_acc: 0.8585\n",
      "Epoch 59/60\n",
      " - 26s - loss: 0.3564 - acc: 0.9355 - val_loss: 0.6914 - val_acc: 0.8531\n",
      "Epoch 60/60\n",
      " - 26s - loss: 0.3565 - acc: 0.9355 - val_loss: 0.7023 - val_acc: 0.8559\n"
     ]
    }
   ],
   "source": [
    "if not data_augmentation:\n",
    "    print('Not using data augmentation.')\n",
    "    history = model.fit(x_train, y_train,\n",
    "              batch_size=batch_size,\n",
    "              epochs=epochs,\n",
    "              verbose=2,\n",
    "              validation_data=(x_test, y_test),\n",
    "              shuffle=True)\n",
    "else:\n",
    "    print('Using real-time data augmentation.')\n",
    "    # This will do preprocessing and realtime data augmentation:\n",
    "    datagen = ImageDataGenerator(\n",
    "        featurewise_center=False,  # set input mean to 0 over the dataset\n",
    "        samplewise_center=False,  # set each sample mean to 0\n",
    "        featurewise_std_normalization=False,  # divide inputs by std of the dataset\n",
    "        samplewise_std_normalization=False,  # divide each input by its std\n",
    "        zca_whitening=False,  # apply ZCA whitening\n",
    "        rotation_range=15,  # randomly rotate images in the range (degrees, 0 to 180)\n",
    "        width_shift_range=0.1,  # randomly shift images horizontally (fraction of total width)\n",
    "        height_shift_range=0.1,  # randomly shift images vertically (fraction of total height)\n",
    "        horizontal_flip=True,  # randomly flip images\n",
    "        vertical_flip=False)  # randomly flip images\n",
    "\n",
    "    datagen.fit(x_train)\n",
    "\n",
    "    # Fit the model on the batches generated by datagen.flow().\n",
    "    history = model.fit_generator(datagen.flow(x_train, y_train,\n",
    "                    batch_size=batch_size),\n",
    "                    epochs=epochs,\n",
    "                    verbose=2,\n",
    "                    validation_data=(x_test, y_test),\n",
    "                    workers=4)\n"
   ]
  },
  {
   "cell_type": "code",
   "execution_count": 83,
   "metadata": {},
   "outputs": [
    {
     "data": {
      "image/png": "[encoded data removed]",
      "text/plain": [
       "<Figure size 432x288 with 1 Axes>"
      ]
     },
     "metadata": {},
     "output_type": "display_data"
    }
   ],
   "source": [
    "# summarize history for accuracy\n",
    "plt.plot(history.history['acc'])\n",
    "plt.plot(history.history['val_acc'])\n",
    "plt.title('model accuracy')\n",
    "plt.ylabel('accuracy')\n",
    "plt.xlabel('epoch')\n",
    "plt.legend(['train', 'test'], loc='upper left')\n",
    "plt.show()"
   ]
  },
  {
   "cell_type": "code",
   "execution_count": 84,
   "metadata": {},
   "outputs": [
    {
     "data": {
      "image/png": "[encoded data removed]",
      "text/plain": [
       "<Figure size 432x288 with 1 Axes>"
      ]
     },
     "metadata": {},
     "output_type": "display_data"
    }
   ],
   "source": [
    "# summarize history for loss\n",
    "plt.plot(history.history['loss'])\n",
    "plt.plot(history.history['val_loss'])\n",
    "plt.title('model loss')\n",
    "plt.ylabel('loss')\n",
    "plt.xlabel('epoch')\n",
    "plt.legend(['train', 'test'], loc='upper left')\n",
    "plt.show()"
   ]
  },
  {
   "cell_type": "markdown",
   "metadata": {},
   "source": [
    "### Test the model"
   ]
  },
  {
   "cell_type": "code",
   "execution_count": 85,
   "metadata": {},
   "outputs": [],
   "source": [
    "score = model.evaluate(x_test, y_test, verbose=0)"
   ]
  },
  {
   "cell_type": "code",
   "execution_count": 86,
   "metadata": {},
   "outputs": [
    {
     "name": "stdout",
     "output_type": "stream",
     "text": [
      "cv loss: 0.7023254341125488\n"
     ]
    }
   ],
   "source": [
    "print('cv loss:', score[0])"
   ]
  },
  {
   "cell_type": "code",
   "execution_count": 87,
   "metadata": {},
   "outputs": [
    {
     "name": "stdout",
     "output_type": "stream",
     "text": [
      "cv accuracy: 0.8559\n"
     ]
    }
   ],
   "source": [
    "print('cv accuracy:', score[1])"
   ]
  },
  {
   "cell_type": "markdown",
   "metadata": {},
   "source": [
    "## Augmentation. optimizer: Adam()"
   ]
  },
  {
   "cell_type": "code",
   "execution_count": 88,
   "metadata": {},
   "outputs": [],
   "source": [
    "data_augmentation = True\n",
    "optimizer=Adam()"
   ]
  },
  {
   "cell_type": "code",
   "execution_count": 89,
   "metadata": {},
   "outputs": [],
   "source": [
    "# determine Loss function and Optimizer\n",
    "model.compile(loss='categorical_crossentropy',\n",
    "            optimizer=optimizer,\n",
    "            metrics=['accuracy'])"
   ]
  },
  {
   "cell_type": "markdown",
   "metadata": {},
   "source": [
    "### Train the Model"
   ]
  },
  {
   "cell_type": "code",
   "execution_count": 90,
   "metadata": {},
   "outputs": [
    {
     "name": "stdout",
     "output_type": "stream",
     "text": [
      "Using real-time data augmentation.\n",
      "Epoch 1/60\n",
      " - 28s - loss: 0.7889 - acc: 0.8020 - val_loss: 0.6852 - val_acc: 0.8343\n",
      "Epoch 2/60\n",
      " - 26s - loss: 0.6962 - acc: 0.8190 - val_loss: 0.6326 - val_acc: 0.8448\n",
      "Epoch 3/60\n",
      " - 26s - loss: 0.6702 - acc: 0.8276 - val_loss: 0.6198 - val_acc: 0.8462\n",
      "Epoch 4/60\n",
      " - 26s - loss: 0.6598 - acc: 0.8289 - val_loss: 0.6028 - val_acc: 0.8553\n",
      "Epoch 5/60\n",
      " - 26s - loss: 0.6520 - acc: 0.8326 - val_loss: 0.6044 - val_acc: 0.8499\n",
      "Epoch 6/60\n",
      " - 26s - loss: 0.6351 - acc: 0.8335 - val_loss: 0.5788 - val_acc: 0.8630\n",
      "Epoch 7/60\n",
      " - 26s - loss: 0.6267 - acc: 0.8377 - val_loss: 0.6010 - val_acc: 0.8476\n",
      "Epoch 8/60\n",
      " - 26s - loss: 0.6209 - acc: 0.8387 - val_loss: 0.5944 - val_acc: 0.8530\n",
      "Epoch 9/60\n",
      " - 26s - loss: 0.6173 - acc: 0.8394 - val_loss: 0.6440 - val_acc: 0.8362\n",
      "Epoch 10/60\n",
      " - 26s - loss: 0.6135 - acc: 0.8391 - val_loss: 0.5771 - val_acc: 0.8535\n",
      "Epoch 11/60\n",
      " - 26s - loss: 0.6055 - acc: 0.8418 - val_loss: 0.5715 - val_acc: 0.8592\n",
      "Epoch 12/60\n",
      " - 26s - loss: 0.6059 - acc: 0.8429 - val_loss: 0.6642 - val_acc: 0.8340\n",
      "Epoch 13/60\n",
      " - 26s - loss: 0.5948 - acc: 0.8458 - val_loss: 0.5555 - val_acc: 0.8633\n",
      "Epoch 14/60\n",
      " - 26s - loss: 0.5914 - acc: 0.8448 - val_loss: 0.6030 - val_acc: 0.8482\n",
      "Epoch 15/60\n",
      " - 26s - loss: 0.5862 - acc: 0.8482 - val_loss: 0.5781 - val_acc: 0.8575\n",
      "Epoch 16/60\n",
      " - 26s - loss: 0.5838 - acc: 0.8497 - val_loss: 0.5667 - val_acc: 0.8637\n",
      "Epoch 17/60\n",
      " - 26s - loss: 0.5766 - acc: 0.8508 - val_loss: 0.5572 - val_acc: 0.8631\n",
      "Epoch 18/60\n",
      " - 26s - loss: 0.5816 - acc: 0.8475 - val_loss: 0.5833 - val_acc: 0.8606\n",
      "Epoch 19/60\n",
      " - 26s - loss: 0.5749 - acc: 0.8508 - val_loss: 0.5885 - val_acc: 0.8554\n",
      "Epoch 20/60\n",
      " - 26s - loss: 0.5707 - acc: 0.8515 - val_loss: 0.5784 - val_acc: 0.8520\n",
      "Epoch 21/60\n",
      " - 26s - loss: 0.5712 - acc: 0.8505 - val_loss: 0.5330 - val_acc: 0.8669\n",
      "Epoch 22/60\n",
      " - 26s - loss: 0.5674 - acc: 0.8522 - val_loss: 0.5735 - val_acc: 0.8593\n",
      "Epoch 23/60\n",
      " - 26s - loss: 0.5577 - acc: 0.8564 - val_loss: 0.5976 - val_acc: 0.8546\n",
      "Epoch 24/60\n",
      " - 26s - loss: 0.5628 - acc: 0.8537 - val_loss: 0.5749 - val_acc: 0.8611\n",
      "Epoch 25/60\n",
      " - 26s - loss: 0.5611 - acc: 0.8537 - val_loss: 0.5430 - val_acc: 0.8681\n",
      "Epoch 26/60\n",
      " - 26s - loss: 0.5542 - acc: 0.8581 - val_loss: 0.5504 - val_acc: 0.8684\n",
      "Epoch 27/60\n",
      " - 26s - loss: 0.5576 - acc: 0.8553 - val_loss: 0.5508 - val_acc: 0.8676\n",
      "Epoch 28/60\n",
      " - 26s - loss: 0.5554 - acc: 0.8573 - val_loss: 0.5213 - val_acc: 0.8726\n",
      "Epoch 29/60\n",
      " - 26s - loss: 0.5539 - acc: 0.8558 - val_loss: 0.5682 - val_acc: 0.8611\n",
      "Epoch 30/60\n",
      " - 26s - loss: 0.5536 - acc: 0.8579 - val_loss: 0.5655 - val_acc: 0.8595\n",
      "Epoch 31/60\n",
      " - 26s - loss: 0.5514 - acc: 0.8617 - val_loss: 0.5532 - val_acc: 0.8693\n",
      "Epoch 32/60\n",
      " - 26s - loss: 0.5417 - acc: 0.8629 - val_loss: 0.5626 - val_acc: 0.8614\n",
      "Epoch 33/60\n",
      " - 26s - loss: 0.5427 - acc: 0.8612 - val_loss: 0.5557 - val_acc: 0.8617\n",
      "Epoch 34/60\n",
      " - 26s - loss: 0.5435 - acc: 0.8610 - val_loss: 0.5461 - val_acc: 0.8687\n",
      "Epoch 35/60\n",
      " - 26s - loss: 0.5426 - acc: 0.8610 - val_loss: 0.5451 - val_acc: 0.8640\n",
      "Epoch 36/60\n",
      " - 26s - loss: 0.5399 - acc: 0.8633 - val_loss: 0.5788 - val_acc: 0.8604\n",
      "Epoch 37/60\n",
      " - 26s - loss: 0.5384 - acc: 0.8653 - val_loss: 0.6103 - val_acc: 0.8561\n",
      "Epoch 38/60\n",
      " - 26s - loss: 0.5394 - acc: 0.8616 - val_loss: 0.5447 - val_acc: 0.8671\n",
      "Epoch 39/60\n",
      " - 26s - loss: 0.5350 - acc: 0.8642 - val_loss: 0.5786 - val_acc: 0.8556\n",
      "Epoch 40/60\n",
      " - 26s - loss: 0.5375 - acc: 0.8614 - val_loss: 0.5479 - val_acc: 0.8675\n",
      "Epoch 41/60\n",
      " - 26s - loss: 0.5346 - acc: 0.8630 - val_loss: 0.5393 - val_acc: 0.8669\n",
      "Epoch 42/60\n",
      " - 26s - loss: 0.5354 - acc: 0.8626 - val_loss: 0.5684 - val_acc: 0.8613\n",
      "Epoch 43/60\n",
      " - 26s - loss: 0.5339 - acc: 0.8643 - val_loss: 0.5198 - val_acc: 0.8736\n",
      "Epoch 44/60\n",
      " - 26s - loss: 0.5326 - acc: 0.8642 - val_loss: 0.5582 - val_acc: 0.8662\n",
      "Epoch 45/60\n",
      " - 26s - loss: 0.5280 - acc: 0.8669 - val_loss: 0.5528 - val_acc: 0.8645\n",
      "Epoch 46/60\n",
      " - 26s - loss: 0.5276 - acc: 0.8654 - val_loss: 0.5307 - val_acc: 0.8719\n",
      "Epoch 47/60\n",
      " - 27s - loss: 0.5382 - acc: 0.8625 - val_loss: 0.5565 - val_acc: 0.8675\n",
      "Epoch 48/60\n",
      " - 28s - loss: 0.5300 - acc: 0.8660 - val_loss: 0.5313 - val_acc: 0.8696\n",
      "Epoch 49/60\n",
      " - 27s - loss: 0.5279 - acc: 0.8665 - val_loss: 0.5509 - val_acc: 0.8657\n",
      "Epoch 50/60\n",
      " - 26s - loss: 0.5260 - acc: 0.8677 - val_loss: 0.5261 - val_acc: 0.8768\n",
      "Epoch 51/60\n",
      " - 26s - loss: 0.5259 - acc: 0.8665 - val_loss: 0.5645 - val_acc: 0.8635\n",
      "Epoch 52/60\n",
      " - 26s - loss: 0.5269 - acc: 0.8662 - val_loss: 0.5670 - val_acc: 0.8641\n",
      "Epoch 53/60\n",
      " - 26s - loss: 0.5238 - acc: 0.8679 - val_loss: 0.5598 - val_acc: 0.8631\n",
      "Epoch 54/60\n",
      " - 26s - loss: 0.5254 - acc: 0.8669 - val_loss: 0.6090 - val_acc: 0.8485\n",
      "Epoch 55/60\n",
      " - 26s - loss: 0.5229 - acc: 0.8693 - val_loss: 0.5587 - val_acc: 0.8642\n",
      "Epoch 56/60\n",
      " - 26s - loss: 0.5198 - acc: 0.8687 - val_loss: 0.5809 - val_acc: 0.8593\n",
      "Epoch 57/60\n",
      " - 26s - loss: 0.5230 - acc: 0.8682 - val_loss: 0.5464 - val_acc: 0.8679\n",
      "Epoch 58/60\n",
      " - 26s - loss: 0.5209 - acc: 0.8685 - val_loss: 0.5315 - val_acc: 0.8719\n",
      "Epoch 59/60\n",
      " - 26s - loss: 0.5174 - acc: 0.8707 - val_loss: 0.5385 - val_acc: 0.8689\n",
      "Epoch 60/60\n",
      " - 26s - loss: 0.5212 - acc: 0.8697 - val_loss: 0.5552 - val_acc: 0.8712\n"
     ]
    }
   ],
   "source": [
    "if not data_augmentation:\n",
    "    print('Not using data augmentation.')\n",
    "    history = model.fit(x_train, y_train,\n",
    "              batch_size=batch_size,\n",
    "              epochs=epochs,\n",
    "              verbose=2,\n",
    "              validation_data=(x_test, y_test),\n",
    "              shuffle=True)\n",
    "else:\n",
    "    print('Using real-time data augmentation.')\n",
    "    # This will do preprocessing and realtime data augmentation:\n",
    "    datagen = ImageDataGenerator(\n",
    "        featurewise_center=False,  # set input mean to 0 over the dataset\n",
    "        samplewise_center=False,  # set each sample mean to 0\n",
    "        featurewise_std_normalization=False,  # divide inputs by std of the dataset\n",
    "        samplewise_std_normalization=False,  # divide each input by its std\n",
    "        zca_whitening=False,  # apply ZCA whitening\n",
    "        rotation_range=15,  # randomly rotate images in the range (degrees, 0 to 180)\n",
    "        width_shift_range=0.1,  # randomly shift images horizontally (fraction of total width)\n",
    "        height_shift_range=0.1,  # randomly shift images vertically (fraction of total height)\n",
    "        horizontal_flip=True,  # randomly flip images\n",
    "        vertical_flip=False)  # randomly flip images\n",
    "\n",
    "    # Compute quantities required for feature-wise normalization\n",
    "    # (std, mean, and principal components if ZCA whitening is applied).\n",
    "    datagen.fit(x_train)\n",
    "\n",
    "    # Fit the model on the batches generated by datagen.flow().\n",
    "    history = model.fit_generator(datagen.flow(x_train, y_train,\n",
    "                    batch_size=batch_size),\n",
    "                    epochs=epochs,\n",
    "                    verbose=2,\n",
    "                    validation_data=(x_test, y_test),\n",
    "                    workers=4)\n"
   ]
  },
  {
   "cell_type": "code",
   "execution_count": 91,
   "metadata": {},
   "outputs": [
    {
     "data": {
      "image/png": "[encoded data removed]",
      "text/plain": [
       "<Figure size 432x288 with 1 Axes>"
      ]
     },
     "metadata": {},
     "output_type": "display_data"
    }
   ],
   "source": [
    "# summarize history for accuracy\n",
    "plt.plot(history.history['acc'])\n",
    "plt.plot(history.history['val_acc'])\n",
    "plt.title('aug_adam model accuracy')\n",
    "plt.ylabel('accuracy')\n",
    "plt.xlabel('epoch')\n",
    "plt.legend(['train', 'test'], loc='upper left')\n",
    "plt.show()"
   ]
  },
  {
   "cell_type": "code",
   "execution_count": 92,
   "metadata": {},
   "outputs": [
    {
     "data": {
      "image/png": "[encoded data removed]",
      "text/plain": [
       "<Figure size 432x288 with 1 Axes>"
      ]
     },
     "metadata": {},
     "output_type": "display_data"
    }
   ],
   "source": [
    "# summarize history for loss\n",
    "plt.plot(history.history['loss'])\n",
    "plt.plot(history.history['val_loss'])\n",
    "plt.title('aug_adam model loss')\n",
    "plt.ylabel('loss')\n",
    "plt.xlabel('epoch')\n",
    "plt.legend(['train', 'test'], loc='upper left')\n",
    "plt.show()"
   ]
  },
  {
   "cell_type": "markdown",
   "metadata": {},
   "source": [
    "### Test the model"
   ]
  },
  {
   "cell_type": "code",
   "execution_count": 93,
   "metadata": {},
   "outputs": [],
   "source": [
    "aug_adam_score = model.evaluate(x_test, y_test, verbose=0)"
   ]
  },
  {
   "cell_type": "code",
   "execution_count": 94,
   "metadata": {},
   "outputs": [
    {
     "name": "stdout",
     "output_type": "stream",
     "text": [
      "cv loss: 0.5552488811016083\n"
     ]
    }
   ],
   "source": [
    "print('cv loss:', aug_adam_score[0])"
   ]
  },
  {
   "cell_type": "code",
   "execution_count": 95,
   "metadata": {},
   "outputs": [
    {
     "name": "stdout",
     "output_type": "stream",
     "text": [
      "cv accuracy: 0.8712\n"
     ]
    }
   ],
   "source": [
    "print('cv accuracy:', aug_adam_score[1])"
   ]
  },
  {
   "cell_type": "markdown",
   "metadata": {},
   "source": [
    "## Augmentation. optimizer: Adagrad()"
   ]
  },
  {
   "cell_type": "code",
   "execution_count": 96,
   "metadata": {},
   "outputs": [],
   "source": [
    "data_augmentation = True\n",
    "optimizer=Adagrad()"
   ]
  },
  {
   "cell_type": "code",
   "execution_count": 97,
   "metadata": {},
   "outputs": [],
   "source": [
    "# determine Loss function and Optimizer\n",
    "model.compile(loss='categorical_crossentropy',\n",
    "            optimizer=optimizer,\n",
    "            metrics=['accuracy'])"
   ]
  },
  {
   "cell_type": "markdown",
   "metadata": {},
   "source": [
    "### Train the Model"
   ]
  },
  {
   "cell_type": "code",
   "execution_count": 98,
   "metadata": {},
   "outputs": [
    {
     "name": "stdout",
     "output_type": "stream",
     "text": [
      "Using real-time data augmentation.\n",
      "Epoch 1/60\n",
      " - 27s - loss: 0.5579 - acc: 0.8586 - val_loss: 0.5277 - val_acc: 0.8739\n",
      "Epoch 2/60\n",
      " - 26s - loss: 0.4885 - acc: 0.8813 - val_loss: 0.4799 - val_acc: 0.8905\n",
      "Epoch 3/60\n",
      " - 26s - loss: 0.4687 - acc: 0.8871 - val_loss: 0.4843 - val_acc: 0.8866\n",
      "Epoch 4/60\n",
      " - 26s - loss: 0.4573 - acc: 0.8904 - val_loss: 0.4779 - val_acc: 0.8912\n",
      "Epoch 5/60\n",
      " - 26s - loss: 0.4503 - acc: 0.8908 - val_loss: 0.4809 - val_acc: 0.8887\n",
      "Epoch 6/60\n",
      " - 26s - loss: 0.4456 - acc: 0.8931 - val_loss: 0.4769 - val_acc: 0.8905\n",
      "Epoch 7/60\n",
      " - 26s - loss: 0.4288 - acc: 0.8972 - val_loss: 0.4722 - val_acc: 0.8920\n",
      "Epoch 8/60\n",
      " - 26s - loss: 0.4249 - acc: 0.8989 - val_loss: 0.4751 - val_acc: 0.8907\n",
      "Epoch 9/60\n",
      " - 27s - loss: 0.4251 - acc: 0.8986 - val_loss: 0.4576 - val_acc: 0.8966\n",
      "Epoch 10/60\n",
      " - 26s - loss: 0.4222 - acc: 0.8996 - val_loss: 0.4835 - val_acc: 0.8870\n",
      "Epoch 11/60\n",
      " - 26s - loss: 0.4140 - acc: 0.9015 - val_loss: 0.4534 - val_acc: 0.8952\n",
      "Epoch 12/60\n",
      " - 26s - loss: 0.4087 - acc: 0.9029 - val_loss: 0.4529 - val_acc: 0.8972\n",
      "Epoch 13/60\n",
      " - 26s - loss: 0.4105 - acc: 0.9031 - val_loss: 0.4482 - val_acc: 0.8974\n",
      "Epoch 14/60\n",
      " - 26s - loss: 0.4015 - acc: 0.9038 - val_loss: 0.4611 - val_acc: 0.8942\n",
      "Epoch 15/60\n",
      " - 26s - loss: 0.3982 - acc: 0.9046 - val_loss: 0.4525 - val_acc: 0.8969\n",
      "Epoch 16/60\n",
      " - 26s - loss: 0.3984 - acc: 0.9045 - val_loss: 0.4536 - val_acc: 0.8979\n",
      "Epoch 17/60\n",
      " - 26s - loss: 0.3957 - acc: 0.9056 - val_loss: 0.4649 - val_acc: 0.8929\n",
      "Epoch 18/60\n",
      " - 26s - loss: 0.3948 - acc: 0.9046 - val_loss: 0.4490 - val_acc: 0.8945\n",
      "Epoch 19/60\n",
      " - 26s - loss: 0.3939 - acc: 0.9052 - val_loss: 0.4536 - val_acc: 0.8953\n",
      "Epoch 20/60\n",
      " - 26s - loss: 0.3859 - acc: 0.9079 - val_loss: 0.4407 - val_acc: 0.9007\n",
      "Epoch 21/60\n",
      " - 26s - loss: 0.3829 - acc: 0.9078 - val_loss: 0.4487 - val_acc: 0.8958\n",
      "Epoch 22/60\n",
      " - 26s - loss: 0.3857 - acc: 0.9062 - val_loss: 0.4428 - val_acc: 0.9002\n",
      "Epoch 23/60\n",
      " - 26s - loss: 0.3849 - acc: 0.9074 - val_loss: 0.4392 - val_acc: 0.8972\n",
      "Epoch 24/60\n",
      " - 26s - loss: 0.3849 - acc: 0.9058 - val_loss: 0.4528 - val_acc: 0.8962\n",
      "Epoch 25/60\n",
      " - 26s - loss: 0.3822 - acc: 0.9078 - val_loss: 0.4411 - val_acc: 0.8991\n",
      "Epoch 26/60\n",
      " - 26s - loss: 0.3791 - acc: 0.9077 - val_loss: 0.4450 - val_acc: 0.8971\n",
      "Epoch 27/60\n",
      " - 26s - loss: 0.3738 - acc: 0.9105 - val_loss: 0.4391 - val_acc: 0.8980\n",
      "Epoch 28/60\n",
      " - 26s - loss: 0.3751 - acc: 0.9095 - val_loss: 0.4399 - val_acc: 0.8999\n",
      "Epoch 29/60\n",
      " - 26s - loss: 0.3676 - acc: 0.9109 - val_loss: 0.4358 - val_acc: 0.8975\n",
      "Epoch 30/60\n",
      " - 26s - loss: 0.3726 - acc: 0.9096 - val_loss: 0.4432 - val_acc: 0.8991\n",
      "Epoch 31/60\n",
      " - 26s - loss: 0.3713 - acc: 0.9096 - val_loss: 0.4407 - val_acc: 0.8979\n",
      "Epoch 32/60\n",
      " - 26s - loss: 0.3656 - acc: 0.9111 - val_loss: 0.4366 - val_acc: 0.8994\n",
      "Epoch 33/60\n",
      " - 26s - loss: 0.3624 - acc: 0.9124 - val_loss: 0.4482 - val_acc: 0.8943\n",
      "Epoch 34/60\n",
      " - 26s - loss: 0.3670 - acc: 0.9116 - val_loss: 0.4490 - val_acc: 0.8953\n",
      "Epoch 35/60\n",
      " - 26s - loss: 0.3640 - acc: 0.9115 - val_loss: 0.4352 - val_acc: 0.8983\n",
      "Epoch 36/60\n",
      " - 26s - loss: 0.3607 - acc: 0.9110 - val_loss: 0.4383 - val_acc: 0.8991\n",
      "Epoch 37/60\n",
      " - 26s - loss: 0.3631 - acc: 0.9123 - val_loss: 0.4217 - val_acc: 0.9014\n",
      "Epoch 38/60\n",
      " - 26s - loss: 0.3616 - acc: 0.9122 - val_loss: 0.4223 - val_acc: 0.9001\n",
      "Epoch 39/60\n",
      " - 26s - loss: 0.3573 - acc: 0.9133 - val_loss: 0.4307 - val_acc: 0.8991\n",
      "Epoch 40/60\n",
      " - 26s - loss: 0.3571 - acc: 0.9134 - val_loss: 0.4274 - val_acc: 0.8976\n",
      "Epoch 41/60\n",
      " - 26s - loss: 0.3584 - acc: 0.9134 - val_loss: 0.4391 - val_acc: 0.8959\n",
      "Epoch 42/60\n",
      " - 26s - loss: 0.3555 - acc: 0.9127 - val_loss: 0.4339 - val_acc: 0.8978\n",
      "Epoch 43/60\n",
      " - 26s - loss: 0.3593 - acc: 0.9130 - val_loss: 0.4250 - val_acc: 0.9010\n",
      "Epoch 44/60\n",
      " - 26s - loss: 0.3567 - acc: 0.9131 - val_loss: 0.4359 - val_acc: 0.8975\n",
      "Epoch 45/60\n",
      " - 26s - loss: 0.3536 - acc: 0.9136 - val_loss: 0.4326 - val_acc: 0.8976\n",
      "Epoch 46/60\n",
      " - 26s - loss: 0.3493 - acc: 0.9144 - val_loss: 0.4316 - val_acc: 0.8992\n",
      "Epoch 47/60\n",
      " - 26s - loss: 0.3509 - acc: 0.9147 - val_loss: 0.4253 - val_acc: 0.8986\n",
      "Epoch 48/60\n",
      " - 26s - loss: 0.3464 - acc: 0.9163 - val_loss: 0.4284 - val_acc: 0.8996\n",
      "Epoch 49/60\n",
      " - 26s - loss: 0.3483 - acc: 0.9140 - val_loss: 0.4259 - val_acc: 0.9001\n",
      "Epoch 50/60\n",
      " - 26s - loss: 0.3479 - acc: 0.9158 - val_loss: 0.4206 - val_acc: 0.9009\n",
      "Epoch 51/60\n",
      " - 26s - loss: 0.3432 - acc: 0.9160 - val_loss: 0.4249 - val_acc: 0.9004\n",
      "Epoch 52/60\n",
      " - 26s - loss: 0.3445 - acc: 0.9155 - val_loss: 0.4238 - val_acc: 0.9002\n",
      "Epoch 53/60\n",
      " - 26s - loss: 0.3451 - acc: 0.9167 - val_loss: 0.4256 - val_acc: 0.9006\n",
      "Epoch 54/60\n",
      " - 26s - loss: 0.3454 - acc: 0.9160 - val_loss: 0.4160 - val_acc: 0.9049\n",
      "Epoch 55/60\n",
      " - 26s - loss: 0.3479 - acc: 0.9140 - val_loss: 0.4176 - val_acc: 0.9016\n",
      "Epoch 56/60\n",
      " - 26s - loss: 0.3416 - acc: 0.9163 - val_loss: 0.4249 - val_acc: 0.8999\n",
      "Epoch 57/60\n",
      " - 26s - loss: 0.3402 - acc: 0.9173 - val_loss: 0.4257 - val_acc: 0.9000\n",
      "Epoch 58/60\n",
      " - 26s - loss: 0.3432 - acc: 0.9151 - val_loss: 0.4224 - val_acc: 0.9014\n",
      "Epoch 59/60\n",
      " - 26s - loss: 0.3436 - acc: 0.9156 - val_loss: 0.4186 - val_acc: 0.9024\n",
      "Epoch 60/60\n",
      " - 26s - loss: 0.3428 - acc: 0.9160 - val_loss: 0.4268 - val_acc: 0.8996\n"
     ]
    }
   ],
   "source": [
    "if not data_augmentation:\n",
    "    print('Not using data augmentation.')\n",
    "    history = model.fit(x_train, y_train,\n",
    "              batch_size=batch_size,\n",
    "              epochs=epochs,\n",
    "              verbose=2,\n",
    "              validation_data=(x_test, y_test),\n",
    "              shuffle=True)\n",
    "else:\n",
    "    print('Using real-time data augmentation.')\n",
    "    # This will do preprocessing and realtime data augmentation:\n",
    "    datagen = ImageDataGenerator(\n",
    "        featurewise_center=False,  # set input mean to 0 over the dataset\n",
    "        samplewise_center=False,  # set each sample mean to 0\n",
    "        featurewise_std_normalization=False,  # divide inputs by std of the dataset\n",
    "        samplewise_std_normalization=False,  # divide each input by its std\n",
    "        zca_whitening=False,  # apply ZCA whitening\n",
    "        rotation_range=15,  # randomly rotate images in the range (degrees, 0 to 180)\n",
    "        width_shift_range=0.1,  # randomly shift images horizontally (fraction of total width)\n",
    "        height_shift_range=0.1,  # randomly shift images vertically (fraction of total height)\n",
    "        horizontal_flip=True,  # randomly flip images\n",
    "        vertical_flip=False)  # randomly flip images\n",
    "\n",
    "    # Compute quantities required for feature-wise normalization\n",
    "    # (std, mean, and principal components if ZCA whitening is applied).\n",
    "    datagen.fit(x_train)\n",
    "\n",
    "    # Fit the model on the batches generated by datagen.flow().\n",
    "    history = model.fit_generator(datagen.flow(x_train, y_train,\n",
    "                    batch_size=batch_size),\n",
    "                    epochs=epochs,\n",
    "                    verbose=2,\n",
    "                    validation_data=(x_test, y_test),\n",
    "                    workers=4)\n"
   ]
  },
  {
   "cell_type": "code",
   "execution_count": 99,
   "metadata": {},
   "outputs": [
    {
     "data": {
      "image/png": "[encoded data removed]",
      "text/plain": [
       "<Figure size 432x288 with 1 Axes>"
      ]
     },
     "metadata": {},
     "output_type": "display_data"
    }
   ],
   "source": [
    "# summarize history for accuracy\n",
    "plt.plot(history.history['acc'])\n",
    "plt.plot(history.history['val_acc'])\n",
    "plt.title('aug_adagrad model accuracy')\n",
    "plt.ylabel('accuracy')\n",
    "plt.xlabel('epoch')\n",
    "plt.legend(['train', 'test'], loc='upper left')\n",
    "plt.show()"
   ]
  },
  {
   "cell_type": "code",
   "execution_count": 100,
   "metadata": {},
   "outputs": [
    {
     "data": {
      "image/png": "[encoded data removed]",
      "text/plain": [
       "<Figure size 432x288 with 1 Axes>"
      ]
     },
     "metadata": {},
     "output_type": "display_data"
    }
   ],
   "source": [
    "# summarize history for loss\n",
    "plt.plot(history.history['loss'])\n",
    "plt.plot(history.history['val_loss'])\n",
    "plt.title('aug_adagrad model loss')\n",
    "plt.ylabel('loss')\n",
    "plt.xlabel('epoch')\n",
    "plt.legend(['train', 'test'], loc='upper left')\n",
    "plt.show()"
   ]
  },
  {
   "cell_type": "markdown",
   "metadata": {},
   "source": [
    "### Test the model"
   ]
  },
  {
   "cell_type": "code",
   "execution_count": 101,
   "metadata": {},
   "outputs": [],
   "source": [
    "aug_adagrad_score = model.evaluate(x_test, y_test, verbose=0)"
   ]
  },
  {
   "cell_type": "code",
   "execution_count": 102,
   "metadata": {},
   "outputs": [
    {
     "name": "stdout",
     "output_type": "stream",
     "text": [
      "cv loss: 0.4268156979084015\n"
     ]
    }
   ],
   "source": [
    "print('cv loss:', aug_adagrad_score[0])"
   ]
  },
  {
   "cell_type": "code",
   "execution_count": 103,
   "metadata": {},
   "outputs": [
    {
     "name": "stdout",
     "output_type": "stream",
     "text": [
      "cv accuracy: 0.8996\n"
     ]
    }
   ],
   "source": [
    "print('cv accuracy:', aug_adagrad_score[1])"
   ]
  },
  {
   "cell_type": "markdown",
   "metadata": {},
   "source": [
    "## Augmentation. optimizer: Adamax()"
   ]
  },
  {
   "cell_type": "code",
   "execution_count": 104,
   "metadata": {},
   "outputs": [],
   "source": [
    "data_augmentation = True\n",
    "optimizer=Adamax()"
   ]
  },
  {
   "cell_type": "code",
   "execution_count": 105,
   "metadata": {},
   "outputs": [],
   "source": [
    "# determine Loss function and Optimizer\n",
    "model.compile(loss='categorical_crossentropy',\n",
    "            optimizer=optimizer,\n",
    "            metrics=['accuracy'])"
   ]
  },
  {
   "cell_type": "markdown",
   "metadata": {},
   "source": [
    "### Train the Model"
   ]
  },
  {
   "cell_type": "code",
   "execution_count": 106,
   "metadata": {},
   "outputs": [
    {
     "name": "stdout",
     "output_type": "stream",
     "text": [
      "Using real-time data augmentation.\n",
      "Epoch 1/60\n",
      " - 27s - loss: 0.4097 - acc: 0.8925 - val_loss: 0.4674 - val_acc: 0.8867\n",
      "Epoch 2/60\n",
      " - 26s - loss: 0.4071 - acc: 0.8925 - val_loss: 0.4604 - val_acc: 0.8879\n",
      "Epoch 3/60\n",
      " - 26s - loss: 0.4128 - acc: 0.8923 - val_loss: 0.4839 - val_acc: 0.8793\n",
      "Epoch 4/60\n",
      " - 26s - loss: 0.4112 - acc: 0.8929 - val_loss: 0.4665 - val_acc: 0.8855\n",
      "Epoch 5/60\n",
      " - 26s - loss: 0.4160 - acc: 0.8913 - val_loss: 0.4670 - val_acc: 0.8849\n",
      "Epoch 6/60\n",
      " - 26s - loss: 0.4165 - acc: 0.8896 - val_loss: 0.4520 - val_acc: 0.8886\n",
      "Epoch 7/60\n",
      " - 26s - loss: 0.4180 - acc: 0.8905 - val_loss: 0.4927 - val_acc: 0.8809\n",
      "Epoch 8/60\n",
      " - 26s - loss: 0.4128 - acc: 0.8921 - val_loss: 0.4755 - val_acc: 0.8811\n",
      "Epoch 9/60\n",
      " - 26s - loss: 0.4130 - acc: 0.8924 - val_loss: 0.5116 - val_acc: 0.8713\n",
      "Epoch 10/60\n",
      " - 26s - loss: 0.4146 - acc: 0.8919 - val_loss: 0.4695 - val_acc: 0.8823\n",
      "Epoch 11/60\n",
      " - 26s - loss: 0.4200 - acc: 0.8899 - val_loss: 0.4463 - val_acc: 0.8908\n",
      "Epoch 12/60\n",
      " - 26s - loss: 0.4167 - acc: 0.8914 - val_loss: 0.4910 - val_acc: 0.8772\n",
      "Epoch 13/60\n",
      " - 26s - loss: 0.4124 - acc: 0.8928 - val_loss: 0.5083 - val_acc: 0.8752\n",
      "Epoch 14/60\n",
      " - 26s - loss: 0.4159 - acc: 0.8905 - val_loss: 0.4695 - val_acc: 0.8852\n",
      "Epoch 15/60\n",
      " - 26s - loss: 0.4153 - acc: 0.8931 - val_loss: 0.4737 - val_acc: 0.8832\n",
      "Epoch 16/60\n",
      " - 26s - loss: 0.4144 - acc: 0.8943 - val_loss: 0.4654 - val_acc: 0.8867\n",
      "Epoch 17/60\n",
      " - 26s - loss: 0.4117 - acc: 0.8919 - val_loss: 0.4616 - val_acc: 0.8838\n",
      "Epoch 18/60\n",
      " - 26s - loss: 0.4120 - acc: 0.8922 - val_loss: 0.4927 - val_acc: 0.8752\n",
      "Epoch 19/60\n",
      " - 26s - loss: 0.4162 - acc: 0.8923 - val_loss: 0.4559 - val_acc: 0.8859\n",
      "Epoch 20/60\n",
      " - 26s - loss: 0.4141 - acc: 0.8933 - val_loss: 0.4987 - val_acc: 0.8753\n",
      "Epoch 21/60\n",
      " - 26s - loss: 0.4122 - acc: 0.8933 - val_loss: 0.4868 - val_acc: 0.8770\n",
      "Epoch 22/60\n",
      " - 26s - loss: 0.4141 - acc: 0.8942 - val_loss: 0.5252 - val_acc: 0.8706\n",
      "Epoch 23/60\n",
      " - 26s - loss: 0.4125 - acc: 0.8942 - val_loss: 0.4545 - val_acc: 0.8874\n",
      "Epoch 24/60\n",
      " - 27s - loss: 0.4143 - acc: 0.8930 - val_loss: 0.4416 - val_acc: 0.8902\n",
      "Epoch 25/60\n",
      " - 26s - loss: 0.4090 - acc: 0.8921 - val_loss: 0.4553 - val_acc: 0.8874\n",
      "Epoch 26/60\n",
      " - 26s - loss: 0.4105 - acc: 0.8947 - val_loss: 0.4601 - val_acc: 0.8895\n",
      "Epoch 27/60\n",
      " - 26s - loss: 0.4137 - acc: 0.8926 - val_loss: 0.4839 - val_acc: 0.8801\n",
      "Epoch 28/60\n",
      " - 26s - loss: 0.4135 - acc: 0.8916 - val_loss: 0.4801 - val_acc: 0.8810\n",
      "Epoch 29/60\n",
      " - 26s - loss: 0.4160 - acc: 0.8926 - val_loss: 0.4491 - val_acc: 0.8873\n",
      "Epoch 30/60\n",
      " - 26s - loss: 0.4081 - acc: 0.8942 - val_loss: 0.4771 - val_acc: 0.8822\n",
      "Epoch 31/60\n",
      " - 26s - loss: 0.4122 - acc: 0.8928 - val_loss: 0.4890 - val_acc: 0.8789\n",
      "Epoch 32/60\n",
      " - 26s - loss: 0.4114 - acc: 0.8932 - val_loss: 0.4890 - val_acc: 0.8810\n",
      "Epoch 33/60\n",
      " - 26s - loss: 0.4161 - acc: 0.8929 - val_loss: 0.4814 - val_acc: 0.8823\n",
      "Epoch 34/60\n",
      " - 26s - loss: 0.4098 - acc: 0.8949 - val_loss: 0.4928 - val_acc: 0.8795\n",
      "Epoch 35/60\n",
      " - 26s - loss: 0.4101 - acc: 0.8942 - val_loss: 0.4699 - val_acc: 0.8833\n",
      "Epoch 36/60\n",
      " - 26s - loss: 0.4091 - acc: 0.8945 - val_loss: 0.4738 - val_acc: 0.8843\n",
      "Epoch 37/60\n",
      " - 26s - loss: 0.4108 - acc: 0.8948 - val_loss: 0.4621 - val_acc: 0.8878\n",
      "Epoch 38/60\n",
      " - 26s - loss: 0.4099 - acc: 0.8937 - val_loss: 0.5474 - val_acc: 0.8674\n",
      "Epoch 39/60\n",
      " - 26s - loss: 0.4129 - acc: 0.8936 - val_loss: 0.4862 - val_acc: 0.8803\n",
      "Epoch 40/60\n",
      " - 26s - loss: 0.4099 - acc: 0.8937 - val_loss: 0.4875 - val_acc: 0.8821\n",
      "Epoch 41/60\n",
      " - 26s - loss: 0.4067 - acc: 0.8948 - val_loss: 0.5193 - val_acc: 0.8734\n",
      "Epoch 42/60\n",
      " - 26s - loss: 0.4103 - acc: 0.8942 - val_loss: 0.4427 - val_acc: 0.8936\n",
      "Epoch 43/60\n",
      " - 26s - loss: 0.4081 - acc: 0.8936 - val_loss: 0.4872 - val_acc: 0.8817\n",
      "Epoch 44/60\n",
      " - 26s - loss: 0.4054 - acc: 0.8962 - val_loss: 0.4777 - val_acc: 0.8820\n",
      "Epoch 45/60\n",
      " - 26s - loss: 0.4021 - acc: 0.8974 - val_loss: 0.4705 - val_acc: 0.8874\n",
      "Epoch 46/60\n",
      " - 26s - loss: 0.4078 - acc: 0.8940 - val_loss: 0.4589 - val_acc: 0.8856\n",
      "Epoch 47/60\n",
      " - 26s - loss: 0.4078 - acc: 0.8958 - val_loss: 0.4949 - val_acc: 0.8770\n",
      "Epoch 48/60\n",
      " - 26s - loss: 0.4074 - acc: 0.8941 - val_loss: 0.5070 - val_acc: 0.8773\n",
      "Epoch 49/60\n",
      " - 26s - loss: 0.4071 - acc: 0.8935 - val_loss: 0.4482 - val_acc: 0.8892\n",
      "Epoch 50/60\n",
      " - 26s - loss: 0.4028 - acc: 0.8970 - val_loss: 0.4998 - val_acc: 0.8763\n",
      "Epoch 51/60\n",
      " - 26s - loss: 0.4066 - acc: 0.8976 - val_loss: 0.4738 - val_acc: 0.8823\n",
      "Epoch 52/60\n",
      " - 26s - loss: 0.4056 - acc: 0.8962 - val_loss: 0.4578 - val_acc: 0.8873\n",
      "Epoch 53/60\n",
      " - 26s - loss: 0.4035 - acc: 0.8973 - val_loss: 0.4762 - val_acc: 0.8888\n",
      "Epoch 54/60\n",
      " - 26s - loss: 0.4061 - acc: 0.8942 - val_loss: 0.4592 - val_acc: 0.8866\n",
      "Epoch 55/60\n",
      " - 26s - loss: 0.4070 - acc: 0.8956 - val_loss: 0.4475 - val_acc: 0.8895\n",
      "Epoch 56/60\n",
      " - 26s - loss: 0.4013 - acc: 0.8972 - val_loss: 0.4538 - val_acc: 0.8874\n",
      "Epoch 57/60\n",
      " - 26s - loss: 0.4036 - acc: 0.8959 - val_loss: 0.4512 - val_acc: 0.8885\n",
      "Epoch 58/60\n",
      " - 26s - loss: 0.3999 - acc: 0.8967 - val_loss: 0.4909 - val_acc: 0.8811\n",
      "Epoch 59/60\n",
      " - 26s - loss: 0.4052 - acc: 0.8956 - val_loss: 0.4663 - val_acc: 0.8868\n",
      "Epoch 60/60\n",
      " - 26s - loss: 0.3974 - acc: 0.8978 - val_loss: 0.4580 - val_acc: 0.8870\n"
     ]
    }
   ],
   "source": [
    "if not data_augmentation:\n",
    "    print('Not using data augmentation.')\n",
    "    history = model.fit(x_train, y_train,\n",
    "              batch_size=batch_size,\n",
    "              epochs=epochs,\n",
    "              verbose=2,\n",
    "              validation_data=(x_test, y_test),\n",
    "              shuffle=True)\n",
    "else:\n",
    "    print('Using real-time data augmentation.')\n",
    "    # This will do preprocessing and realtime data augmentation:\n",
    "    datagen = ImageDataGenerator(\n",
    "        featurewise_center=False,  # set input mean to 0 over the dataset\n",
    "        samplewise_center=False,  # set each sample mean to 0\n",
    "        featurewise_std_normalization=False,  # divide inputs by std of the dataset\n",
    "        samplewise_std_normalization=False,  # divide each input by its std\n",
    "        zca_whitening=False,  # apply ZCA whitening\n",
    "        rotation_range=15,  # randomly rotate images in the range (degrees, 0 to 180)\n",
    "        width_shift_range=0.1,  # randomly shift images horizontally (fraction of total width)\n",
    "        height_shift_range=0.1,  # randomly shift images vertically (fraction of total height)\n",
    "        horizontal_flip=True,  # randomly flip images\n",
    "        vertical_flip=False)  # randomly flip images\n",
    "\n",
    "    # Compute quantities required for feature-wise normalization\n",
    "    # (std, mean, and principal components if ZCA whitening is applied).\n",
    "    datagen.fit(x_train)\n",
    "\n",
    "    # Fit the model on the batches generated by datagen.flow().\n",
    "    history = model.fit_generator(datagen.flow(x_train, y_train,\n",
    "                    batch_size=batch_size),\n",
    "                    epochs=epochs,\n",
    "                    verbose=2,\n",
    "                    validation_data=(x_test, y_test),\n",
    "                    workers=4)\n"
   ]
  },
  {
   "cell_type": "code",
   "execution_count": 107,
   "metadata": {},
   "outputs": [
    {
     "data": {
      "image/png": "[encoded data removed]",
      "text/plain": [
       "<Figure size 432x288 with 1 Axes>"
      ]
     },
     "metadata": {},
     "output_type": "display_data"
    }
   ],
   "source": [
    "# summarize history for accuracy\n",
    "plt.plot(history.history['acc'])\n",
    "plt.plot(history.history['val_acc'])\n",
    "plt.title('aug_adamax model accuracy')\n",
    "plt.ylabel('accuracy')\n",
    "plt.xlabel('epoch')\n",
    "plt.legend(['train', 'test'], loc='upper left')\n",
    "plt.show()"
   ]
  },
  {
   "cell_type": "code",
   "execution_count": 108,
   "metadata": {},
   "outputs": [
    {
     "data": {
      "image/png": "[encoded data removed]",
      "text/plain": [
       "<Figure size 432x288 with 1 Axes>"
      ]
     },
     "metadata": {},
     "output_type": "display_data"
    }
   ],
   "source": [
    "# summarize history for loss\n",
    "plt.plot(history.history['loss'])\n",
    "plt.plot(history.history['val_loss'])\n",
    "plt.title('aug_adamax model loss')\n",
    "plt.ylabel('loss')\n",
    "plt.xlabel('epoch')\n",
    "plt.legend(['train', 'test'], loc='upper left')\n",
    "plt.show()"
   ]
  },
  {
   "cell_type": "markdown",
   "metadata": {},
   "source": [
    "### Test the model"
   ]
  },
  {
   "cell_type": "code",
   "execution_count": 109,
   "metadata": {},
   "outputs": [],
   "source": [
    "aug_adamax_score = model.evaluate(x_test, y_test, verbose=0)"
   ]
  },
  {
   "cell_type": "code",
   "execution_count": 110,
   "metadata": {},
   "outputs": [
    {
     "name": "stdout",
     "output_type": "stream",
     "text": [
      "cv loss: 0.45804503889083864\n"
     ]
    }
   ],
   "source": [
    "print('cv loss:', aug_adamax_score[0])"
   ]
  },
  {
   "cell_type": "code",
   "execution_count": 111,
   "metadata": {},
   "outputs": [
    {
     "name": "stdout",
     "output_type": "stream",
     "text": [
      "cv accuracy: 0.887\n"
     ]
    }
   ],
   "source": [
    "print('cv accuracy:', aug_adamax_score[1])"
   ]
  },
  {
   "cell_type": "markdown",
   "metadata": {},
   "source": [
    "## Augmentation. optimizer: RMSprop()"
   ]
  },
  {
   "cell_type": "code",
   "execution_count": 112,
   "metadata": {},
   "outputs": [],
   "source": [
    "data_augmentation = True\n",
    "optimizer=RMSprop()"
   ]
  },
  {
   "cell_type": "code",
   "execution_count": 113,
   "metadata": {},
   "outputs": [],
   "source": [
    "# determine Loss function and Optimizer\n",
    "model.compile(loss='categorical_crossentropy',\n",
    "            optimizer=optimizer,\n",
    "            metrics=['accuracy'])"
   ]
  },
  {
   "cell_type": "markdown",
   "metadata": {},
   "source": [
    "### Train the Model"
   ]
  },
  {
   "cell_type": "code",
   "execution_count": 114,
   "metadata": {},
   "outputs": [
    {
     "name": "stdout",
     "output_type": "stream",
     "text": [
      "Using real-time data augmentation.\n",
      "Epoch 1/60\n",
      " - 27s - loss: 0.4521 - acc: 0.8802 - val_loss: 0.5064 - val_acc: 0.8776\n",
      "Epoch 2/60\n",
      " - 26s - loss: 0.4612 - acc: 0.8791 - val_loss: 0.4726 - val_acc: 0.8825\n",
      "Epoch 3/60\n",
      " - 26s - loss: 0.4627 - acc: 0.8784 - val_loss: 0.5250 - val_acc: 0.8689\n",
      "Epoch 4/60\n",
      " - 26s - loss: 0.4684 - acc: 0.8779 - val_loss: 0.5567 - val_acc: 0.8603\n",
      "Epoch 5/60\n",
      " - 26s - loss: 0.4743 - acc: 0.8770 - val_loss: 0.5644 - val_acc: 0.8569\n",
      "Epoch 6/60\n",
      " - 26s - loss: 0.4753 - acc: 0.8781 - val_loss: 0.6025 - val_acc: 0.8491\n",
      "Epoch 7/60\n",
      " - 26s - loss: 0.4754 - acc: 0.8779 - val_loss: 0.5362 - val_acc: 0.8717\n",
      "Epoch 8/60\n",
      " - 26s - loss: 0.4809 - acc: 0.8776 - val_loss: 0.5204 - val_acc: 0.8745\n",
      "Epoch 9/60\n",
      " - 26s - loss: 0.4806 - acc: 0.8770 - val_loss: 0.5136 - val_acc: 0.8733\n",
      "Epoch 10/60\n",
      " - 26s - loss: 0.4833 - acc: 0.8771 - val_loss: 0.5806 - val_acc: 0.8589\n",
      "Epoch 11/60\n",
      " - 26s - loss: 0.4809 - acc: 0.8788 - val_loss: 0.4837 - val_acc: 0.8862\n",
      "Epoch 12/60\n",
      " - 26s - loss: 0.4839 - acc: 0.8775 - val_loss: 0.5624 - val_acc: 0.8654\n",
      "Epoch 13/60\n",
      " - 26s - loss: 0.4830 - acc: 0.8793 - val_loss: 0.5516 - val_acc: 0.8631\n",
      "Epoch 14/60\n",
      " - 26s - loss: 0.4763 - acc: 0.8804 - val_loss: 0.5215 - val_acc: 0.8758\n",
      "Epoch 15/60\n",
      " - 26s - loss: 0.4857 - acc: 0.8774 - val_loss: 0.5239 - val_acc: 0.8765\n",
      "Epoch 16/60\n",
      " - 26s - loss: 0.4858 - acc: 0.8775 - val_loss: 0.5198 - val_acc: 0.8754\n",
      "Epoch 17/60\n",
      " - 26s - loss: 0.4836 - acc: 0.8779 - val_loss: 0.4933 - val_acc: 0.8853\n",
      "Epoch 18/60\n",
      " - 26s - loss: 0.4880 - acc: 0.8775 - val_loss: 0.6042 - val_acc: 0.8524\n",
      "Epoch 19/60\n",
      " - 26s - loss: 0.4811 - acc: 0.8800 - val_loss: 0.5131 - val_acc: 0.8759\n",
      "Epoch 20/60\n",
      " - 26s - loss: 0.4831 - acc: 0.8783 - val_loss: 0.4929 - val_acc: 0.8830\n",
      "Epoch 21/60\n",
      " - 26s - loss: 0.4846 - acc: 0.8791 - val_loss: 0.5567 - val_acc: 0.8629\n",
      "Epoch 22/60\n",
      " - 26s - loss: 0.4878 - acc: 0.8779 - val_loss: 0.5541 - val_acc: 0.8697\n",
      "Epoch 23/60\n",
      " - 26s - loss: 0.4848 - acc: 0.8795 - val_loss: 0.5295 - val_acc: 0.8741\n",
      "Epoch 24/60\n",
      " - 26s - loss: 0.4852 - acc: 0.8795 - val_loss: 0.5052 - val_acc: 0.8812\n",
      "Epoch 25/60\n",
      " - 26s - loss: 0.4817 - acc: 0.8806 - val_loss: 0.4854 - val_acc: 0.8875\n",
      "Epoch 26/60\n",
      " - 26s - loss: 0.4800 - acc: 0.8804 - val_loss: 0.5511 - val_acc: 0.8714\n",
      "Epoch 27/60\n",
      " - 26s - loss: 0.4868 - acc: 0.8791 - val_loss: 0.5957 - val_acc: 0.8545\n",
      "Epoch 28/60\n",
      " - 26s - loss: 0.4894 - acc: 0.8780 - val_loss: 0.5122 - val_acc: 0.8781\n",
      "Epoch 29/60\n",
      " - 26s - loss: 0.4872 - acc: 0.8787 - val_loss: 0.5690 - val_acc: 0.8642\n",
      "Epoch 30/60\n",
      " - 26s - loss: 0.4813 - acc: 0.8822 - val_loss: 0.5006 - val_acc: 0.8779\n",
      "Epoch 31/60\n",
      " - 26s - loss: 0.4824 - acc: 0.8802 - val_loss: 0.5522 - val_acc: 0.8679\n",
      "Epoch 32/60\n",
      " - 26s - loss: 0.4834 - acc: 0.8816 - val_loss: 0.5600 - val_acc: 0.8724\n",
      "Epoch 33/60\n",
      " - 26s - loss: 0.4845 - acc: 0.8800 - val_loss: 0.5536 - val_acc: 0.8642\n",
      "Epoch 34/60\n",
      " - 26s - loss: 0.4848 - acc: 0.8811 - val_loss: 0.5481 - val_acc: 0.8697\n",
      "Epoch 35/60\n",
      " - 26s - loss: 0.4825 - acc: 0.8806 - val_loss: 0.4866 - val_acc: 0.8868\n",
      "Epoch 36/60\n",
      " - 26s - loss: 0.4794 - acc: 0.8825 - val_loss: 0.5317 - val_acc: 0.8729\n",
      "Epoch 37/60\n",
      " - 26s - loss: 0.4829 - acc: 0.8817 - val_loss: 0.5354 - val_acc: 0.8725\n",
      "Epoch 38/60\n",
      " - 26s - loss: 0.4842 - acc: 0.8808 - val_loss: 0.5492 - val_acc: 0.8710\n",
      "Epoch 39/60\n",
      " - 26s - loss: 0.4813 - acc: 0.8809 - val_loss: 0.5420 - val_acc: 0.8715\n",
      "Epoch 40/60\n",
      " - 26s - loss: 0.4852 - acc: 0.8798 - val_loss: 0.5276 - val_acc: 0.8787\n",
      "Epoch 41/60\n",
      " - 26s - loss: 0.4839 - acc: 0.8819 - val_loss: 0.5122 - val_acc: 0.8781\n",
      "Epoch 42/60\n",
      " - 26s - loss: 0.4803 - acc: 0.8806 - val_loss: 0.5308 - val_acc: 0.8757\n",
      "Epoch 43/60\n",
      " - 26s - loss: 0.4852 - acc: 0.8787 - val_loss: 0.5242 - val_acc: 0.8757\n",
      "Epoch 44/60\n",
      " - 26s - loss: 0.4852 - acc: 0.8818 - val_loss: 0.5172 - val_acc: 0.8792\n",
      "Epoch 45/60\n",
      " - 26s - loss: 0.4834 - acc: 0.8806 - val_loss: 0.5517 - val_acc: 0.8681\n",
      "Epoch 46/60\n",
      " - 26s - loss: 0.4819 - acc: 0.8816 - val_loss: 0.5140 - val_acc: 0.8774\n",
      "Epoch 47/60\n",
      " - 26s - loss: 0.4791 - acc: 0.8837 - val_loss: 0.5185 - val_acc: 0.8786\n",
      "Epoch 48/60\n",
      " - 26s - loss: 0.4860 - acc: 0.8806 - val_loss: 0.5039 - val_acc: 0.8786\n",
      "Epoch 49/60\n",
      " - 26s - loss: 0.4880 - acc: 0.8787 - val_loss: 0.6069 - val_acc: 0.8602\n",
      "Epoch 50/60\n",
      " - 26s - loss: 0.4812 - acc: 0.8814 - val_loss: 0.5623 - val_acc: 0.8674\n",
      "Epoch 51/60\n",
      " - 26s - loss: 0.4820 - acc: 0.8828 - val_loss: 0.5526 - val_acc: 0.8701\n",
      "Epoch 52/60\n",
      " - 26s - loss: 0.4799 - acc: 0.8817 - val_loss: 0.5714 - val_acc: 0.8633\n",
      "Epoch 53/60\n",
      " - 26s - loss: 0.4822 - acc: 0.8805 - val_loss: 0.5443 - val_acc: 0.8736\n",
      "Epoch 54/60\n",
      " - 26s - loss: 0.4815 - acc: 0.8828 - val_loss: 0.5068 - val_acc: 0.8790\n",
      "Epoch 55/60\n",
      " - 26s - loss: 0.4798 - acc: 0.8814 - val_loss: 0.4953 - val_acc: 0.8852\n",
      "Epoch 56/60\n",
      " - 26s - loss: 0.4787 - acc: 0.8817 - val_loss: 0.5540 - val_acc: 0.8695\n",
      "Epoch 57/60\n",
      " - 26s - loss: 0.4812 - acc: 0.8806 - val_loss: 0.5280 - val_acc: 0.8718\n",
      "Epoch 58/60\n",
      " - 26s - loss: 0.4807 - acc: 0.8814 - val_loss: 0.4933 - val_acc: 0.8831\n",
      "Epoch 59/60\n",
      " - 26s - loss: 0.4844 - acc: 0.8805 - val_loss: 0.5592 - val_acc: 0.8693\n",
      "Epoch 60/60\n",
      " - 26s - loss: 0.4818 - acc: 0.8805 - val_loss: 0.5533 - val_acc: 0.8676\n"
     ]
    }
   ],
   "source": [
    "if not data_augmentation:\n",
    "    print('Not using data augmentation.')\n",
    "    history = model.fit(x_train, y_train,\n",
    "              batch_size=batch_size,\n",
    "              epochs=epochs,\n",
    "              verbose=2,\n",
    "              validation_data=(x_test, y_test),\n",
    "              shuffle=True)\n",
    "else:\n",
    "    print('Using real-time data augmentation.')\n",
    "    # This will do preprocessing and realtime data augmentation:\n",
    "    datagen = ImageDataGenerator(\n",
    "        featurewise_center=False,  # set input mean to 0 over the dataset\n",
    "        samplewise_center=False,  # set each sample mean to 0\n",
    "        featurewise_std_normalization=False,  # divide inputs by std of the dataset\n",
    "        samplewise_std_normalization=False,  # divide each input by its std\n",
    "        zca_whitening=False,  # apply ZCA whitening\n",
    "        rotation_range=15,  # randomly rotate images in the range (degrees, 0 to 180)\n",
    "        width_shift_range=0.1,  # randomly shift images horizontally (fraction of total width)\n",
    "        height_shift_range=0.1,  # randomly shift images vertically (fraction of total height)\n",
    "        horizontal_flip=True,  # randomly flip images\n",
    "        vertical_flip=False)  # randomly flip images\n",
    "\n",
    "    # Compute quantities required for feature-wise normalization\n",
    "    # (std, mean, and principal components if ZCA whitening is applied).\n",
    "    datagen.fit(x_train)\n",
    "\n",
    "    # Fit the model on the batches generated by datagen.flow().\n",
    "    history = model.fit_generator(datagen.flow(x_train, y_train,\n",
    "                    batch_size=batch_size),\n",
    "                    epochs=epochs,\n",
    "                    verbose=2,\n",
    "                    validation_data=(x_test, y_test),\n",
    "                    workers=4)\n"
   ]
  },
  {
   "cell_type": "code",
   "execution_count": 115,
   "metadata": {},
   "outputs": [
    {
     "data": {
      "image/png": "[encoded data removed]",
      "text/plain": [
       "<Figure size 432x288 with 1 Axes>"
      ]
     },
     "metadata": {},
     "output_type": "display_data"
    }
   ],
   "source": [
    "# summarize history for accuracy\n",
    "plt.plot(history.history['acc'])\n",
    "plt.plot(history.history['val_acc'])\n",
    "plt.title('aug_rmsprop model accuracy')\n",
    "plt.ylabel('accuracy')\n",
    "plt.xlabel('epoch')\n",
    "plt.legend(['train', 'test'], loc='upper left')\n",
    "plt.show()"
   ]
  },
  {
   "cell_type": "code",
   "execution_count": 116,
   "metadata": {},
   "outputs": [
    {
     "data": {
      "image/png": "[encoded data removed]",
      "text/plain": [
       "<Figure size 432x288 with 1 Axes>"
      ]
     },
     "metadata": {},
     "output_type": "display_data"
    }
   ],
   "source": [
    "# summarize history for loss\n",
    "plt.plot(history.history['loss'])\n",
    "plt.plot(history.history['val_loss'])\n",
    "plt.title('aug_rmsprop model loss')\n",
    "plt.ylabel('loss')\n",
    "plt.xlabel('epoch')\n",
    "plt.legend(['train', 'test'], loc='upper left')\n",
    "plt.show()"
   ]
  },
  {
   "cell_type": "markdown",
   "metadata": {},
   "source": [
    "### Test the model"
   ]
  },
  {
   "cell_type": "code",
   "execution_count": 117,
   "metadata": {},
   "outputs": [],
   "source": [
    "aug_rmsprop_score = model.evaluate(x_test, y_test, verbose=0)"
   ]
  },
  {
   "cell_type": "code",
   "execution_count": 118,
   "metadata": {},
   "outputs": [
    {
     "name": "stdout",
     "output_type": "stream",
     "text": [
      "cv loss: 0.5532749287128449\n"
     ]
    }
   ],
   "source": [
    "print('cv loss:', aug_rmsprop_score[0])"
   ]
  },
  {
   "cell_type": "code",
   "execution_count": 119,
   "metadata": {},
   "outputs": [
    {
     "name": "stdout",
     "output_type": "stream",
     "text": [
      "cv accuracy: 0.8676\n"
     ]
    }
   ],
   "source": [
    "print('cv accuracy:', aug_rmsprop_score[1])"
   ]
  }
 ],
 "metadata": {
  "kernelspec": {
   "display_name": "Python 3",
   "language": "python",
   "name": "python3"
  },
  "language_info": {
   "codemirror_mode": {
    "name": "ipython",
    "version": 3
   },
   "file_extension": ".py",
   "mimetype": "text/x-python",
   "name": "python",
   "nbconvert_exporter": "python",
   "pygments_lexer": "ipython3",
   "version": "3.5.2"
  }
 },
 "nbformat": 4,
 "nbformat_minor": 1
}
